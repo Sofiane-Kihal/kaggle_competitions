{
 "cells": [
  {
   "cell_type": "markdown",
   "metadata": {},
   "source": [
    "## TP Noté Examen Final : Sofiane KIHAL | Hager Ben Aissa"
   ]
  },
  {
   "cell_type": "code",
   "execution_count": 1117,
   "metadata": {},
   "outputs": [],
   "source": [
    "import pandas as pd\n",
    "import matplotlib.pyplot as plt\n",
    "import numpy as np"
   ]
  },
  {
   "cell_type": "markdown",
   "metadata": {},
   "source": [
    "### EXERCICE 1"
   ]
  },
  {
   "cell_type": "markdown",
   "metadata": {},
   "source": [
    "#### 1 ) Faire l'inventaire du nombre de lignes et de colonnes du dataset"
   ]
  },
  {
   "cell_type": "code",
   "execution_count": 1118,
   "metadata": {},
   "outputs": [
    {
     "name": "stdout",
     "output_type": "stream",
     "text": [
      "Lignes : 388\n",
      "Colonnes : 12\n"
     ]
    }
   ],
   "source": [
    "train = pd.read_csv(\"data/measurements.csv\")\n",
    "shape = train.shape\n",
    "print (\"Lignes :\", shape[0])\n",
    "print(\"Colonnes :\", shape[1])"
   ]
  },
  {
   "cell_type": "code",
   "execution_count": 1119,
   "metadata": {},
   "outputs": [
    {
     "data": {
      "text/html": [
       "<div>\n",
       "<style scoped>\n",
       "    .dataframe tbody tr th:only-of-type {\n",
       "        vertical-align: middle;\n",
       "    }\n",
       "\n",
       "    .dataframe tbody tr th {\n",
       "        vertical-align: top;\n",
       "    }\n",
       "\n",
       "    .dataframe thead th {\n",
       "        text-align: right;\n",
       "    }\n",
       "</style>\n",
       "<table border=\"1\" class=\"dataframe\">\n",
       "  <thead>\n",
       "    <tr style=\"text-align: right;\">\n",
       "      <th></th>\n",
       "      <th>distance</th>\n",
       "      <th>consume</th>\n",
       "      <th>speed</th>\n",
       "      <th>temp_inside</th>\n",
       "      <th>temp_outside</th>\n",
       "      <th>specials</th>\n",
       "      <th>gas_type</th>\n",
       "      <th>AC</th>\n",
       "      <th>rain</th>\n",
       "      <th>sun</th>\n",
       "      <th>refill liters</th>\n",
       "      <th>refill gas</th>\n",
       "    </tr>\n",
       "  </thead>\n",
       "  <tbody>\n",
       "    <tr>\n",
       "      <th>0</th>\n",
       "      <td>28</td>\n",
       "      <td>5</td>\n",
       "      <td>26</td>\n",
       "      <td>21,5</td>\n",
       "      <td>12</td>\n",
       "      <td>NaN</td>\n",
       "      <td>E10</td>\n",
       "      <td>0</td>\n",
       "      <td>0</td>\n",
       "      <td>0</td>\n",
       "      <td>45</td>\n",
       "      <td>E10</td>\n",
       "    </tr>\n",
       "    <tr>\n",
       "      <th>1</th>\n",
       "      <td>12</td>\n",
       "      <td>4,2</td>\n",
       "      <td>30</td>\n",
       "      <td>21,5</td>\n",
       "      <td>13</td>\n",
       "      <td>NaN</td>\n",
       "      <td>E10</td>\n",
       "      <td>0</td>\n",
       "      <td>0</td>\n",
       "      <td>0</td>\n",
       "      <td>NaN</td>\n",
       "      <td>NaN</td>\n",
       "    </tr>\n",
       "    <tr>\n",
       "      <th>2</th>\n",
       "      <td>11,2</td>\n",
       "      <td>5,5</td>\n",
       "      <td>38</td>\n",
       "      <td>21,5</td>\n",
       "      <td>15</td>\n",
       "      <td>NaN</td>\n",
       "      <td>E10</td>\n",
       "      <td>0</td>\n",
       "      <td>0</td>\n",
       "      <td>0</td>\n",
       "      <td>NaN</td>\n",
       "      <td>NaN</td>\n",
       "    </tr>\n",
       "    <tr>\n",
       "      <th>3</th>\n",
       "      <td>12,9</td>\n",
       "      <td>3,9</td>\n",
       "      <td>36</td>\n",
       "      <td>21,5</td>\n",
       "      <td>14</td>\n",
       "      <td>NaN</td>\n",
       "      <td>E10</td>\n",
       "      <td>0</td>\n",
       "      <td>0</td>\n",
       "      <td>0</td>\n",
       "      <td>NaN</td>\n",
       "      <td>NaN</td>\n",
       "    </tr>\n",
       "    <tr>\n",
       "      <th>4</th>\n",
       "      <td>18,5</td>\n",
       "      <td>4,5</td>\n",
       "      <td>46</td>\n",
       "      <td>21,5</td>\n",
       "      <td>15</td>\n",
       "      <td>NaN</td>\n",
       "      <td>E10</td>\n",
       "      <td>0</td>\n",
       "      <td>0</td>\n",
       "      <td>0</td>\n",
       "      <td>NaN</td>\n",
       "      <td>NaN</td>\n",
       "    </tr>\n",
       "  </tbody>\n",
       "</table>\n",
       "</div>"
      ],
      "text/plain": [
       "  distance consume  speed temp_inside  temp_outside specials gas_type  AC  \\\n",
       "0       28       5     26        21,5            12      NaN      E10   0   \n",
       "1       12     4,2     30        21,5            13      NaN      E10   0   \n",
       "2     11,2     5,5     38        21,5            15      NaN      E10   0   \n",
       "3     12,9     3,9     36        21,5            14      NaN      E10   0   \n",
       "4     18,5     4,5     46        21,5            15      NaN      E10   0   \n",
       "\n",
       "   rain  sun refill liters refill gas  \n",
       "0     0    0            45        E10  \n",
       "1     0    0           NaN        NaN  \n",
       "2     0    0           NaN        NaN  \n",
       "3     0    0           NaN        NaN  \n",
       "4     0    0           NaN        NaN  "
      ]
     },
     "execution_count": 1119,
     "metadata": {},
     "output_type": "execute_result"
    }
   ],
   "source": [
    "train.head()"
   ]
  },
  {
   "cell_type": "markdown",
   "metadata": {},
   "source": [
    "2) Calculer la moyenne et l'ecart type des variables quantitative en fonction du type de carburant."
   ]
  },
  {
   "cell_type": "code",
   "execution_count": 1120,
   "metadata": {},
   "outputs": [
    {
     "data": {
      "text/plain": [
       "array(['E10', 'SP98'], dtype=object)"
      ]
     },
     "execution_count": 1120,
     "metadata": {},
     "output_type": "execute_result"
    }
   ],
   "source": [
    "train['gas_type'].unique()"
   ]
  },
  {
   "cell_type": "code",
   "execution_count": 1121,
   "metadata": {},
   "outputs": [
    {
     "data": {
      "text/plain": [
       "distance         object\n",
       "consume          object\n",
       "speed             int64\n",
       "temp_inside      object\n",
       "temp_outside      int64\n",
       "specials         object\n",
       "gas_type         object\n",
       "AC                int64\n",
       "rain              int64\n",
       "sun               int64\n",
       "refill liters    object\n",
       "refill gas       object\n",
       "dtype: object"
      ]
     },
     "execution_count": 1121,
     "metadata": {},
     "output_type": "execute_result"
    }
   ],
   "source": [
    "train.dtypes"
   ]
  },
  {
   "cell_type": "markdown",
   "metadata": {},
   "source": [
    "On observe qu'il y'a des variables quantitatives qui ont un format 'object' comme la consommation, on va donc les transformer en variable de type int64 (interpretable avec le float64 par le modèle)"
   ]
  },
  {
   "cell_type": "code",
   "execution_count": 1122,
   "metadata": {},
   "outputs": [
    {
     "data": {
      "text/html": [
       "<div>\n",
       "<style scoped>\n",
       "    .dataframe tbody tr th:only-of-type {\n",
       "        vertical-align: middle;\n",
       "    }\n",
       "\n",
       "    .dataframe tbody tr th {\n",
       "        vertical-align: top;\n",
       "    }\n",
       "\n",
       "    .dataframe thead th {\n",
       "        text-align: right;\n",
       "    }\n",
       "</style>\n",
       "<table border=\"1\" class=\"dataframe\">\n",
       "  <thead>\n",
       "    <tr style=\"text-align: right;\">\n",
       "      <th></th>\n",
       "      <th>distance</th>\n",
       "      <th>consume</th>\n",
       "      <th>speed</th>\n",
       "      <th>temp_inside</th>\n",
       "      <th>temp_outside</th>\n",
       "      <th>specials</th>\n",
       "      <th>gas_type</th>\n",
       "      <th>AC</th>\n",
       "      <th>rain</th>\n",
       "      <th>sun</th>\n",
       "      <th>refill liters</th>\n",
       "      <th>refill gas</th>\n",
       "    </tr>\n",
       "  </thead>\n",
       "  <tbody>\n",
       "    <tr>\n",
       "      <th>0</th>\n",
       "      <td>28</td>\n",
       "      <td>5</td>\n",
       "      <td>26</td>\n",
       "      <td>21.5</td>\n",
       "      <td>12</td>\n",
       "      <td>NaN</td>\n",
       "      <td>E10</td>\n",
       "      <td>0</td>\n",
       "      <td>0</td>\n",
       "      <td>0</td>\n",
       "      <td>45</td>\n",
       "      <td>E10</td>\n",
       "    </tr>\n",
       "    <tr>\n",
       "      <th>1</th>\n",
       "      <td>12</td>\n",
       "      <td>4.2</td>\n",
       "      <td>30</td>\n",
       "      <td>21.5</td>\n",
       "      <td>13</td>\n",
       "      <td>NaN</td>\n",
       "      <td>E10</td>\n",
       "      <td>0</td>\n",
       "      <td>0</td>\n",
       "      <td>0</td>\n",
       "      <td>nan</td>\n",
       "      <td>NaN</td>\n",
       "    </tr>\n",
       "    <tr>\n",
       "      <th>2</th>\n",
       "      <td>11.2</td>\n",
       "      <td>5.5</td>\n",
       "      <td>38</td>\n",
       "      <td>21.5</td>\n",
       "      <td>15</td>\n",
       "      <td>NaN</td>\n",
       "      <td>E10</td>\n",
       "      <td>0</td>\n",
       "      <td>0</td>\n",
       "      <td>0</td>\n",
       "      <td>nan</td>\n",
       "      <td>NaN</td>\n",
       "    </tr>\n",
       "    <tr>\n",
       "      <th>3</th>\n",
       "      <td>12.9</td>\n",
       "      <td>3.9</td>\n",
       "      <td>36</td>\n",
       "      <td>21.5</td>\n",
       "      <td>14</td>\n",
       "      <td>NaN</td>\n",
       "      <td>E10</td>\n",
       "      <td>0</td>\n",
       "      <td>0</td>\n",
       "      <td>0</td>\n",
       "      <td>nan</td>\n",
       "      <td>NaN</td>\n",
       "    </tr>\n",
       "    <tr>\n",
       "      <th>4</th>\n",
       "      <td>18.5</td>\n",
       "      <td>4.5</td>\n",
       "      <td>46</td>\n",
       "      <td>21.5</td>\n",
       "      <td>15</td>\n",
       "      <td>NaN</td>\n",
       "      <td>E10</td>\n",
       "      <td>0</td>\n",
       "      <td>0</td>\n",
       "      <td>0</td>\n",
       "      <td>nan</td>\n",
       "      <td>NaN</td>\n",
       "    </tr>\n",
       "  </tbody>\n",
       "</table>\n",
       "</div>"
      ],
      "text/plain": [
       "  distance consume  speed temp_inside  temp_outside specials gas_type  AC  \\\n",
       "0       28       5     26        21.5            12      NaN      E10   0   \n",
       "1       12     4.2     30        21.5            13      NaN      E10   0   \n",
       "2     11.2     5.5     38        21.5            15      NaN      E10   0   \n",
       "3     12.9     3.9     36        21.5            14      NaN      E10   0   \n",
       "4     18.5     4.5     46        21.5            15      NaN      E10   0   \n",
       "\n",
       "   rain  sun refill liters refill gas  \n",
       "0     0    0            45        E10  \n",
       "1     0    0           nan        NaN  \n",
       "2     0    0           nan        NaN  \n",
       "3     0    0           nan        NaN  \n",
       "4     0    0           nan        NaN  "
      ]
     },
     "execution_count": 1122,
     "metadata": {},
     "output_type": "execute_result"
    }
   ],
   "source": [
    "def comma_replace(df) :\n",
    "    return df.replace(',','.')\n",
    "\n",
    "train['temp_inside'] = train['temp_inside'].astype(str)\n",
    "train['refill liters'] = train['refill liters'].astype(str)\n",
    "    \n",
    "train['distance'] = train['distance'].apply(comma_replace)\n",
    "train['consume'] = train['consume'].apply(comma_replace)\n",
    "train['temp_inside'] = train['temp_inside'].apply(comma_replace)\n",
    "train['refill liters'] = train['refill liters'].apply(comma_replace)\n",
    "train.head()"
   ]
  },
  {
   "cell_type": "code",
   "execution_count": 1123,
   "metadata": {},
   "outputs": [],
   "source": [
    "train['distance'] = train['distance'].astype(float)\n",
    "train['consume'] = train['consume'].astype(float)\n",
    "train['temp_inside'] = train['temp_inside'].astype(float)\n",
    "train['refill liters'] = train['refill liters'].astype(float)"
   ]
  },
  {
   "cell_type": "code",
   "execution_count": 1124,
   "metadata": {},
   "outputs": [
    {
     "data": {
      "text/html": [
       "<div>\n",
       "<style scoped>\n",
       "    .dataframe tbody tr th:only-of-type {\n",
       "        vertical-align: middle;\n",
       "    }\n",
       "\n",
       "    .dataframe tbody tr th {\n",
       "        vertical-align: top;\n",
       "    }\n",
       "\n",
       "    .dataframe thead th {\n",
       "        text-align: right;\n",
       "    }\n",
       "</style>\n",
       "<table border=\"1\" class=\"dataframe\">\n",
       "  <thead>\n",
       "    <tr style=\"text-align: right;\">\n",
       "      <th></th>\n",
       "      <th>distance</th>\n",
       "      <th>consume</th>\n",
       "      <th>speed</th>\n",
       "      <th>temp_inside</th>\n",
       "      <th>temp_outside</th>\n",
       "      <th>AC</th>\n",
       "      <th>rain</th>\n",
       "      <th>sun</th>\n",
       "      <th>refill liters</th>\n",
       "    </tr>\n",
       "    <tr>\n",
       "      <th>gas_type</th>\n",
       "      <th></th>\n",
       "      <th></th>\n",
       "      <th></th>\n",
       "      <th></th>\n",
       "      <th></th>\n",
       "      <th></th>\n",
       "      <th></th>\n",
       "      <th></th>\n",
       "      <th></th>\n",
       "    </tr>\n",
       "  </thead>\n",
       "  <tbody>\n",
       "    <tr>\n",
       "      <th>E10</th>\n",
       "      <td>21.096250</td>\n",
       "      <td>4.931250</td>\n",
       "      <td>43.506250</td>\n",
       "      <td>21.917197</td>\n",
       "      <td>10.11875</td>\n",
       "      <td>0.043750</td>\n",
       "      <td>0.100000</td>\n",
       "      <td>0.075000</td>\n",
       "      <td>39.6000</td>\n",
       "    </tr>\n",
       "    <tr>\n",
       "      <th>SP98</th>\n",
       "      <td>18.639912</td>\n",
       "      <td>4.899123</td>\n",
       "      <td>40.820175</td>\n",
       "      <td>21.938356</td>\n",
       "      <td>12.22807</td>\n",
       "      <td>0.100877</td>\n",
       "      <td>0.140351</td>\n",
       "      <td>0.087719</td>\n",
       "      <td>35.5625</td>\n",
       "    </tr>\n",
       "  </tbody>\n",
       "</table>\n",
       "</div>"
      ],
      "text/plain": [
       "           distance   consume      speed  temp_inside  temp_outside        AC  \\\n",
       "gas_type                                                                        \n",
       "E10       21.096250  4.931250  43.506250    21.917197      10.11875  0.043750   \n",
       "SP98      18.639912  4.899123  40.820175    21.938356      12.22807  0.100877   \n",
       "\n",
       "              rain       sun  refill liters  \n",
       "gas_type                                     \n",
       "E10       0.100000  0.075000        39.6000  \n",
       "SP98      0.140351  0.087719        35.5625  "
      ]
     },
     "execution_count": 1124,
     "metadata": {},
     "output_type": "execute_result"
    }
   ],
   "source": [
    "train.groupby(by='gas_type').mean()"
   ]
  },
  {
   "cell_type": "code",
   "execution_count": 1125,
   "metadata": {},
   "outputs": [
    {
     "data": {
      "text/html": [
       "<div>\n",
       "<style scoped>\n",
       "    .dataframe tbody tr th:only-of-type {\n",
       "        vertical-align: middle;\n",
       "    }\n",
       "\n",
       "    .dataframe tbody tr th {\n",
       "        vertical-align: top;\n",
       "    }\n",
       "\n",
       "    .dataframe thead th {\n",
       "        text-align: right;\n",
       "    }\n",
       "</style>\n",
       "<table border=\"1\" class=\"dataframe\">\n",
       "  <thead>\n",
       "    <tr style=\"text-align: right;\">\n",
       "      <th></th>\n",
       "      <th>distance</th>\n",
       "      <th>consume</th>\n",
       "      <th>speed</th>\n",
       "      <th>temp_inside</th>\n",
       "      <th>temp_outside</th>\n",
       "      <th>AC</th>\n",
       "      <th>rain</th>\n",
       "      <th>sun</th>\n",
       "      <th>refill liters</th>\n",
       "    </tr>\n",
       "    <tr>\n",
       "      <th>gas_type</th>\n",
       "      <th></th>\n",
       "      <th></th>\n",
       "      <th></th>\n",
       "      <th></th>\n",
       "      <th></th>\n",
       "      <th></th>\n",
       "      <th></th>\n",
       "      <th></th>\n",
       "      <th></th>\n",
       "    </tr>\n",
       "  </thead>\n",
       "  <tbody>\n",
       "    <tr>\n",
       "      <th>E10</th>\n",
       "      <td>20.307234</td>\n",
       "      <td>0.900956</td>\n",
       "      <td>14.077949</td>\n",
       "      <td>0.659854</td>\n",
       "      <td>6.392185</td>\n",
       "      <td>0.205181</td>\n",
       "      <td>0.300942</td>\n",
       "      <td>0.264218</td>\n",
       "      <td>3.056959</td>\n",
       "    </tr>\n",
       "    <tr>\n",
       "      <th>SP98</th>\n",
       "      <td>24.179598</td>\n",
       "      <td>1.118408</td>\n",
       "      <td>13.170122</td>\n",
       "      <td>1.201906</td>\n",
       "      <td>7.271373</td>\n",
       "      <td>0.301829</td>\n",
       "      <td>0.348115</td>\n",
       "      <td>0.283509</td>\n",
       "      <td>10.672787</td>\n",
       "    </tr>\n",
       "  </tbody>\n",
       "</table>\n",
       "</div>"
      ],
      "text/plain": [
       "           distance   consume      speed  temp_inside  temp_outside        AC  \\\n",
       "gas_type                                                                        \n",
       "E10       20.307234  0.900956  14.077949     0.659854      6.392185  0.205181   \n",
       "SP98      24.179598  1.118408  13.170122     1.201906      7.271373  0.301829   \n",
       "\n",
       "              rain       sun  refill liters  \n",
       "gas_type                                     \n",
       "E10       0.300942  0.264218       3.056959  \n",
       "SP98      0.348115  0.283509      10.672787  "
      ]
     },
     "execution_count": 1125,
     "metadata": {},
     "output_type": "execute_result"
    }
   ],
   "source": [
    "train.groupby(by='gas_type').std()"
   ]
  },
  {
   "cell_type": "markdown",
   "metadata": {},
   "source": [
    "#### 3) Y a-t-il une différence significative entre la consommation dans les deux types de carburant?"
   ]
  },
  {
   "cell_type": "markdown",
   "metadata": {},
   "source": [
    "On remarque que la moyenne de consommation est de 4.93 pour le type de carburant E10 et de 4.89 pour le carburant SP98. C'est assez proche, et on remarque que l'écart type, c'est à dire la dispersion par rapport à la moyenne, est plutot faible car elle est de 0,9 à 1.1L par carburant. Sachant que la consommation ne dépend pas de la distance, on peut considérer qu'il n'y a pas de différence significative."
   ]
  },
  {
   "cell_type": "markdown",
   "metadata": {},
   "source": [
    "#### 5) Quelles sont les variables qui contiennent des valeurs manquantes et quelle est la proportion des valeurs manquants pour chacune de ces variables ?"
   ]
  },
  {
   "cell_type": "code",
   "execution_count": 1126,
   "metadata": {},
   "outputs": [
    {
     "data": {
      "text/plain": [
       "distance           0\n",
       "consume            0\n",
       "speed              0\n",
       "temp_inside       12\n",
       "temp_outside       0\n",
       "specials         295\n",
       "gas_type           0\n",
       "AC                 0\n",
       "rain               0\n",
       "sun                0\n",
       "refill liters    375\n",
       "refill gas       375\n",
       "dtype: int64"
      ]
     },
     "execution_count": 1126,
     "metadata": {},
     "output_type": "execute_result"
    }
   ],
   "source": [
    "train.isnull().sum()"
   ]
  },
  {
   "cell_type": "markdown",
   "metadata": {},
   "source": [
    "#### 6) Calculer ainsi la matrice X constituée des variables explicatives et la cible Y. Ensuite découper les observations en Xtrain, Ytrain, Xtest, Ytest, ou la premiere partie servira de base d'apprentissage et la seconde de base de test.\n",
    "\n",
    "#### 7) Mettre en place un modèle d'apprentissage pour prédire la consommation.\n",
    "\n",
    "#### 8) Tester plusieurs modèles et plusieurs combinaisons de paramètres afin de fournir le modèle avec la meilleure prédicition. On définira de façon claire et précise les méthodes d'évaluation de modèles mis en place."
   ]
  },
  {
   "cell_type": "markdown",
   "metadata": {},
   "source": [
    "Dans un premier temps nous allons nettoyer les données : c'est à dire combler les valeurs manquantes par la valeure médiane ou le mode selon que la variable est quantitative ou qualitative"
   ]
  },
  {
   "cell_type": "code",
   "execution_count": 1127,
   "metadata": {},
   "outputs": [],
   "source": [
    "median = train.median()"
   ]
  },
  {
   "cell_type": "code",
   "execution_count": 1128,
   "metadata": {},
   "outputs": [
    {
     "data": {
      "text/plain": [
       "distance         float64\n",
       "consume          float64\n",
       "speed              int64\n",
       "temp_inside      float64\n",
       "temp_outside       int64\n",
       "specials          object\n",
       "gas_type          object\n",
       "AC                 int64\n",
       "rain               int64\n",
       "sun                int64\n",
       "refill liters    float64\n",
       "refill gas        object\n",
       "dtype: object"
      ]
     },
     "execution_count": 1128,
     "metadata": {},
     "output_type": "execute_result"
    }
   ],
   "source": [
    "train.dtypes"
   ]
  },
  {
   "cell_type": "code",
   "execution_count": 1129,
   "metadata": {},
   "outputs": [],
   "source": [
    "train['distance'].fillna(median['distance'], inplace=True)\n",
    "train['consume'].fillna(median['consume'], inplace=True)\n",
    "train['temp_inside'].fillna(median['temp_inside'], inplace=True)\n",
    "train['refill liters'].fillna(median['refill liters'], inplace=True)"
   ]
  },
  {
   "cell_type": "markdown",
   "metadata": {},
   "source": [
    "- La colonne 'refill gas' est identique à la colonne gas_type, on va donc faire une extraction caractéristique de la colonne gas_type pour l'ajouter au modèle comme paramètre.\n",
    "\n",
    "- La colonne 'specials' a déjà été l'objet d'une extraction caractéristique, nous avons les colonnes AC, rain et sun qui nous donnent l'information voulue, inutile donc de s'en occuper."
   ]
  },
  {
   "cell_type": "code",
   "execution_count": 1130,
   "metadata": {},
   "outputs": [
    {
     "data": {
      "text/plain": [
       "distance           0\n",
       "consume            0\n",
       "speed              0\n",
       "temp_inside        0\n",
       "temp_outside       0\n",
       "specials         295\n",
       "gas_type           0\n",
       "AC                 0\n",
       "rain               0\n",
       "sun                0\n",
       "refill liters      0\n",
       "refill gas       375\n",
       "dtype: int64"
      ]
     },
     "execution_count": 1130,
     "metadata": {},
     "output_type": "execute_result"
    }
   ],
   "source": [
    "train.isnull().sum()"
   ]
  },
  {
   "cell_type": "markdown",
   "metadata": {},
   "source": [
    "Les données sont maintenant nettoyées."
   ]
  },
  {
   "cell_type": "code",
   "execution_count": 1131,
   "metadata": {},
   "outputs": [
    {
     "data": {
      "text/plain": [
       "<matplotlib.axes._subplots.AxesSubplot at 0x11ae67f60>"
      ]
     },
     "execution_count": 1131,
     "metadata": {},
     "output_type": "execute_result"
    },
    {
     "data": {
      "image/png": "[encoded data removed]",
      "text/plain": [
       "<Figure size 720x720 with 2 Axes>"
      ]
     },
     "metadata": {
      "needs_background": "light"
     },
     "output_type": "display_data"
    }
   ],
   "source": [
    "import seaborn as sns\n",
    "\n",
    "def correlation_heatmap(train) :\n",
    "    plt.subplots(figsize=(10,10))\n",
    "    ax = plt.axes()\n",
    "    ax.set_title(\"Correlation Heatmap\")\n",
    "    corr = train.corr()\n",
    "    return (sns.heatmap(corr, \n",
    "                xticklabels=corr.columns.values,\n",
    "                yticklabels=corr.columns.values,cmap='autumn'))\n",
    "\n",
    "correlation_heatmap(train)\n"
   ]
  },
  {
   "cell_type": "markdown",
   "metadata": {},
   "source": [
    "On remarque qu'il n'y a pas de forte corrélation apparente entre la consommation, on va essayer de faire une extraction caractéristique pour améliorer cela, puis plus tard on essaiera d'améliorer le modèle si cela ne suffit pas"
   ]
  },
  {
   "cell_type": "code",
   "execution_count": 1132,
   "metadata": {},
   "outputs": [],
   "source": [
    "SP = train['gas_type'] == 'SP98'\n",
    "E10 = train['gas_type'] == 'E10'\n",
    "train['SP98'] = SP.astype(int)\n",
    "train['E10'] = E10.astype(int)"
   ]
  },
  {
   "cell_type": "code",
   "execution_count": 1133,
   "metadata": {},
   "outputs": [
    {
     "data": {
      "text/html": [
       "<div>\n",
       "<style scoped>\n",
       "    .dataframe tbody tr th:only-of-type {\n",
       "        vertical-align: middle;\n",
       "    }\n",
       "\n",
       "    .dataframe tbody tr th {\n",
       "        vertical-align: top;\n",
       "    }\n",
       "\n",
       "    .dataframe thead th {\n",
       "        text-align: right;\n",
       "    }\n",
       "</style>\n",
       "<table border=\"1\" class=\"dataframe\">\n",
       "  <thead>\n",
       "    <tr style=\"text-align: right;\">\n",
       "      <th></th>\n",
       "      <th>distance</th>\n",
       "      <th>consume</th>\n",
       "      <th>speed</th>\n",
       "      <th>temp_inside</th>\n",
       "      <th>temp_outside</th>\n",
       "      <th>specials</th>\n",
       "      <th>gas_type</th>\n",
       "      <th>AC</th>\n",
       "      <th>rain</th>\n",
       "      <th>sun</th>\n",
       "      <th>refill liters</th>\n",
       "      <th>refill gas</th>\n",
       "      <th>SP98</th>\n",
       "      <th>E10</th>\n",
       "    </tr>\n",
       "  </thead>\n",
       "  <tbody>\n",
       "    <tr>\n",
       "      <th>0</th>\n",
       "      <td>28.0</td>\n",
       "      <td>5.0</td>\n",
       "      <td>26</td>\n",
       "      <td>21.5</td>\n",
       "      <td>12</td>\n",
       "      <td>NaN</td>\n",
       "      <td>E10</td>\n",
       "      <td>0</td>\n",
       "      <td>0</td>\n",
       "      <td>0</td>\n",
       "      <td>45.0</td>\n",
       "      <td>E10</td>\n",
       "      <td>0</td>\n",
       "      <td>1</td>\n",
       "    </tr>\n",
       "    <tr>\n",
       "      <th>1</th>\n",
       "      <td>12.0</td>\n",
       "      <td>4.2</td>\n",
       "      <td>30</td>\n",
       "      <td>21.5</td>\n",
       "      <td>13</td>\n",
       "      <td>NaN</td>\n",
       "      <td>E10</td>\n",
       "      <td>0</td>\n",
       "      <td>0</td>\n",
       "      <td>0</td>\n",
       "      <td>38.0</td>\n",
       "      <td>NaN</td>\n",
       "      <td>0</td>\n",
       "      <td>1</td>\n",
       "    </tr>\n",
       "    <tr>\n",
       "      <th>2</th>\n",
       "      <td>11.2</td>\n",
       "      <td>5.5</td>\n",
       "      <td>38</td>\n",
       "      <td>21.5</td>\n",
       "      <td>15</td>\n",
       "      <td>NaN</td>\n",
       "      <td>E10</td>\n",
       "      <td>0</td>\n",
       "      <td>0</td>\n",
       "      <td>0</td>\n",
       "      <td>38.0</td>\n",
       "      <td>NaN</td>\n",
       "      <td>0</td>\n",
       "      <td>1</td>\n",
       "    </tr>\n",
       "    <tr>\n",
       "      <th>3</th>\n",
       "      <td>12.9</td>\n",
       "      <td>3.9</td>\n",
       "      <td>36</td>\n",
       "      <td>21.5</td>\n",
       "      <td>14</td>\n",
       "      <td>NaN</td>\n",
       "      <td>E10</td>\n",
       "      <td>0</td>\n",
       "      <td>0</td>\n",
       "      <td>0</td>\n",
       "      <td>38.0</td>\n",
       "      <td>NaN</td>\n",
       "      <td>0</td>\n",
       "      <td>1</td>\n",
       "    </tr>\n",
       "    <tr>\n",
       "      <th>4</th>\n",
       "      <td>18.5</td>\n",
       "      <td>4.5</td>\n",
       "      <td>46</td>\n",
       "      <td>21.5</td>\n",
       "      <td>15</td>\n",
       "      <td>NaN</td>\n",
       "      <td>E10</td>\n",
       "      <td>0</td>\n",
       "      <td>0</td>\n",
       "      <td>0</td>\n",
       "      <td>38.0</td>\n",
       "      <td>NaN</td>\n",
       "      <td>0</td>\n",
       "      <td>1</td>\n",
       "    </tr>\n",
       "  </tbody>\n",
       "</table>\n",
       "</div>"
      ],
      "text/plain": [
       "   distance  consume  speed  temp_inside  temp_outside specials gas_type  AC  \\\n",
       "0      28.0      5.0     26         21.5            12      NaN      E10   0   \n",
       "1      12.0      4.2     30         21.5            13      NaN      E10   0   \n",
       "2      11.2      5.5     38         21.5            15      NaN      E10   0   \n",
       "3      12.9      3.9     36         21.5            14      NaN      E10   0   \n",
       "4      18.5      4.5     46         21.5            15      NaN      E10   0   \n",
       "\n",
       "   rain  sun  refill liters refill gas  SP98  E10  \n",
       "0     0    0           45.0        E10     0    1  \n",
       "1     0    0           38.0        NaN     0    1  \n",
       "2     0    0           38.0        NaN     0    1  \n",
       "3     0    0           38.0        NaN     0    1  \n",
       "4     0    0           38.0        NaN     0    1  "
      ]
     },
     "execution_count": 1133,
     "metadata": {},
     "output_type": "execute_result"
    }
   ],
   "source": [
    "train.head()"
   ]
  },
  {
   "cell_type": "markdown",
   "metadata": {},
   "source": [
    "Ici, on a dummyfié les valeurs catégorielles de gas_type qui sont identiques à celles du gas_refill."
   ]
  },
  {
   "cell_type": "code",
   "execution_count": 1134,
   "metadata": {},
   "outputs": [
    {
     "data": {
      "text/plain": [
       "<matplotlib.axes._subplots.AxesSubplot at 0x125d7c518>"
      ]
     },
     "execution_count": 1134,
     "metadata": {},
     "output_type": "execute_result"
    },
    {
     "data": {
      "image/png": "[encoded data removed]",
      "text/plain": [
       "<Figure size 720x720 with 2 Axes>"
      ]
     },
     "metadata": {
      "needs_background": "light"
     },
     "output_type": "display_data"
    }
   ],
   "source": [
    "correlation_heatmap(train)"
   ]
  },
  {
   "cell_type": "markdown",
   "metadata": {},
   "source": [
    "L'amélioration est très nette, on remarque des correlations beaucoup plus fortes."
   ]
  },
  {
   "cell_type": "code",
   "execution_count": 1135,
   "metadata": {},
   "outputs": [],
   "source": [
    "from sklearn.model_selection import train_test_split\n",
    "from sklearn.ensemble import RandomForestRegressor"
   ]
  },
  {
   "cell_type": "code",
   "execution_count": 1136,
   "metadata": {},
   "outputs": [],
   "source": [
    "keep = ['distance','speed', 'temp_inside','temp_outside','AC','rain','sun', 'SP98', 'E10']\n",
    "from sklearn.metrics import mean_squared_error"
   ]
  },
  {
   "cell_type": "code",
   "execution_count": 1137,
   "metadata": {},
   "outputs": [],
   "source": [
    "def parse_model(X,targetColumnsName, useColumns):\n",
    "    if targetColumnsName not in X.columns:\n",
    "        raise ValueError(\"target column survived should belong to df\")\n",
    "    target = X[targetColumnsName]\n",
    "    X = X[useColumns]\n",
    "    return X, target"
   ]
  },
  {
   "cell_type": "code",
   "execution_count": 1138,
   "metadata": {},
   "outputs": [],
   "source": [
    "def RMSE(y_test,y_prediction):\n",
    "        return np.sqrt(((y_prediction - y_test) ** 2).mean())"
   ]
  },
  {
   "cell_type": "code",
   "execution_count": 1139,
   "metadata": {},
   "outputs": [],
   "source": [
    "def modelisationProcessing(modelAlgo,dfData,features,targetName):\n",
    "    X, y = parse_model(dfData.copy(),targetName, features)\n",
    "    list_test_size = [a/20.0 for a in list(range(0,20,1))][1:]\n",
    "    scores = []\n",
    "    for ts in list_test_size:\n",
    "        X_train, X_test, y_train,y_test = train_test_split(X,y,test_size=0.2,random_state=0)\n",
    "        modelAlgoFitted = modelAlgo.fit(X_train,y_train)\n",
    "        scores.append(modelAlgoFitted.score(X_test,y_test))\n",
    "        \n",
    "    # calcul du RMSE\n",
    "    y_pred = modelAlgoFitted.predict(X_test)\n",
    "    rmse = RMSE(y_test,y_pred)\n",
    "    return np.array(scores).mean(),rmse"
   ]
  },
  {
   "cell_type": "markdown",
   "metadata": {},
   "source": [
    "On implémente 3 fonctions qui vont nous permettre de construire des modèles différents et de calculer leur erreur quadratique moyenne."
   ]
  },
  {
   "cell_type": "code",
   "execution_count": 1140,
   "metadata": {},
   "outputs": [],
   "source": [
    "from sklearn.linear_model import LinearRegression"
   ]
  },
  {
   "cell_type": "code",
   "execution_count": 1141,
   "metadata": {},
   "outputs": [
    {
     "name": "stdout",
     "output_type": "stream",
     "text": [
      "Resultat score : 0.1308489414112719 RMSE: 1.2248836155849017\n"
     ]
    }
   ],
   "source": [
    "lr= LinearRegression()\n",
    "resultat2,rmse2= modelisationProcessing(lr,train,keep,target)\n",
    "print(\"Resultat score : {} RMSE: {}\".format(resultat2, rmse2))"
   ]
  },
  {
   "cell_type": "markdown",
   "metadata": {},
   "source": [
    "Le resultat de la regression linéaire est très mauvais comme on peut le constater, essayons le Random Forest Regressor."
   ]
  },
  {
   "cell_type": "code",
   "execution_count": 1142,
   "metadata": {},
   "outputs": [
    {
     "name": "stdout",
     "output_type": "stream",
     "text": [
      "Resultat score : 0.5519733960519149 RMSE: 0.8802323792436896\n"
     ]
    }
   ],
   "source": [
    "rf = RandomForestRegressor(n_estimators = 150, min_samples_leaf = 8, max_depth = 50)\n",
    "target = 'consume'\n",
    "resultat,rmse = modelisationProcessing(rf,train,keep,target)\n",
    "\n",
    "print(\"Resultat score : {} RMSE: {}\".format(resultat, rmse))"
   ]
  },
  {
   "cell_type": "markdown",
   "metadata": {},
   "source": [
    "On constate que même si les resultats ne sont pas très bons, ils restent largement supérieur à ceux obtenus avec la regression linéaire.\n"
   ]
  },
  {
   "cell_type": "code",
   "execution_count": 1143,
   "metadata": {},
   "outputs": [
    {
     "data": {
      "text/html": [
       "<div>\n",
       "<style scoped>\n",
       "    .dataframe tbody tr th:only-of-type {\n",
       "        vertical-align: middle;\n",
       "    }\n",
       "\n",
       "    .dataframe tbody tr th {\n",
       "        vertical-align: top;\n",
       "    }\n",
       "\n",
       "    .dataframe thead th {\n",
       "        text-align: right;\n",
       "    }\n",
       "</style>\n",
       "<table border=\"1\" class=\"dataframe\">\n",
       "  <thead>\n",
       "    <tr style=\"text-align: right;\">\n",
       "      <th></th>\n",
       "      <th>distance</th>\n",
       "      <th>speed</th>\n",
       "      <th>temp_inside</th>\n",
       "      <th>temp_outside</th>\n",
       "      <th>AC</th>\n",
       "      <th>rain</th>\n",
       "      <th>sun</th>\n",
       "      <th>SP98</th>\n",
       "      <th>E10</th>\n",
       "    </tr>\n",
       "  </thead>\n",
       "  <tbody>\n",
       "    <tr>\n",
       "      <th>0</th>\n",
       "      <td>28.0</td>\n",
       "      <td>26</td>\n",
       "      <td>21.5</td>\n",
       "      <td>12</td>\n",
       "      <td>0</td>\n",
       "      <td>0</td>\n",
       "      <td>0</td>\n",
       "      <td>0</td>\n",
       "      <td>1</td>\n",
       "    </tr>\n",
       "    <tr>\n",
       "      <th>1</th>\n",
       "      <td>12.0</td>\n",
       "      <td>30</td>\n",
       "      <td>21.5</td>\n",
       "      <td>13</td>\n",
       "      <td>0</td>\n",
       "      <td>0</td>\n",
       "      <td>0</td>\n",
       "      <td>0</td>\n",
       "      <td>1</td>\n",
       "    </tr>\n",
       "    <tr>\n",
       "      <th>2</th>\n",
       "      <td>11.2</td>\n",
       "      <td>38</td>\n",
       "      <td>21.5</td>\n",
       "      <td>15</td>\n",
       "      <td>0</td>\n",
       "      <td>0</td>\n",
       "      <td>0</td>\n",
       "      <td>0</td>\n",
       "      <td>1</td>\n",
       "    </tr>\n",
       "    <tr>\n",
       "      <th>3</th>\n",
       "      <td>12.9</td>\n",
       "      <td>36</td>\n",
       "      <td>21.5</td>\n",
       "      <td>14</td>\n",
       "      <td>0</td>\n",
       "      <td>0</td>\n",
       "      <td>0</td>\n",
       "      <td>0</td>\n",
       "      <td>1</td>\n",
       "    </tr>\n",
       "    <tr>\n",
       "      <th>4</th>\n",
       "      <td>18.5</td>\n",
       "      <td>46</td>\n",
       "      <td>21.5</td>\n",
       "      <td>15</td>\n",
       "      <td>0</td>\n",
       "      <td>0</td>\n",
       "      <td>0</td>\n",
       "      <td>0</td>\n",
       "      <td>1</td>\n",
       "    </tr>\n",
       "  </tbody>\n",
       "</table>\n",
       "</div>"
      ],
      "text/plain": [
       "   distance  speed  temp_inside  temp_outside  AC  rain  sun  SP98  E10\n",
       "0      28.0     26         21.5            12   0     0    0     0    1\n",
       "1      12.0     30         21.5            13   0     0    0     0    1\n",
       "2      11.2     38         21.5            15   0     0    0     0    1\n",
       "3      12.9     36         21.5            14   0     0    0     0    1\n",
       "4      18.5     46         21.5            15   0     0    0     0    1"
      ]
     },
     "execution_count": 1143,
     "metadata": {},
     "output_type": "execute_result"
    }
   ],
   "source": [
    "train[keep].head()"
   ]
  },
  {
   "cell_type": "markdown",
   "metadata": {},
   "source": [
    "### EXERCICE 2"
   ]
  },
  {
   "cell_type": "code",
   "execution_count": 1144,
   "metadata": {},
   "outputs": [
    {
     "data": {
      "text/plain": [
       "(8259, 12)"
      ]
     },
     "execution_count": 1144,
     "metadata": {},
     "output_type": "execute_result"
    }
   ],
   "source": [
    "train2 = pd.read_csv(\"data/banc3-20V243.csv\",sep=\";\")\n",
    "train2.shape"
   ]
  },
  {
   "cell_type": "code",
   "execution_count": 1145,
   "metadata": {},
   "outputs": [
    {
     "data": {
      "text/html": [
       "<div>\n",
       "<style scoped>\n",
       "    .dataframe tbody tr th:only-of-type {\n",
       "        vertical-align: middle;\n",
       "    }\n",
       "\n",
       "    .dataframe tbody tr th {\n",
       "        vertical-align: top;\n",
       "    }\n",
       "\n",
       "    .dataframe thead th {\n",
       "        text-align: right;\n",
       "    }\n",
       "</style>\n",
       "<table border=\"1\" class=\"dataframe\">\n",
       "  <thead>\n",
       "    <tr style=\"text-align: right;\">\n",
       "      <th></th>\n",
       "      <th>Timestamp</th>\n",
       "      <th>Serial_Number</th>\n",
       "      <th>Spectrum_H29_2R</th>\n",
       "      <th>Spectrum_H29_2T</th>\n",
       "      <th>Spectrum_H56_2R</th>\n",
       "      <th>Spectrum_H56_2T</th>\n",
       "      <th>Spectrum_H57_2R</th>\n",
       "      <th>Spectrum_H57_2T</th>\n",
       "      <th>Spectrum_H58_2R</th>\n",
       "      <th>Spectrum_H58_2T</th>\n",
       "      <th>result_H29_2R</th>\n",
       "      <th>result_H29_2T</th>\n",
       "    </tr>\n",
       "  </thead>\n",
       "  <tbody>\n",
       "    <tr>\n",
       "      <th>0</th>\n",
       "      <td>02/03/2018 11:16</td>\n",
       "      <td>664</td>\n",
       "      <td>0,005684887</td>\n",
       "      <td>0,003582062</td>\n",
       "      <td>0,006776467</td>\n",
       "      <td>0,006435905</td>\n",
       "      <td>0,007683833</td>\n",
       "      <td>0,008451626</td>\n",
       "      <td>0,004948708</td>\n",
       "      <td>0,006481649</td>\n",
       "      <td>0,01</td>\n",
       "      <td>0,005</td>\n",
       "    </tr>\n",
       "    <tr>\n",
       "      <th>1</th>\n",
       "      <td>02/03/2018 11:17</td>\n",
       "      <td>664</td>\n",
       "      <td>0,00529535</td>\n",
       "      <td>0,004932173</td>\n",
       "      <td>0,006106189</td>\n",
       "      <td>0,009485114</td>\n",
       "      <td>0,003434228</td>\n",
       "      <td>0,007939726</td>\n",
       "      <td>0,008026021</td>\n",
       "      <td>0,011386434</td>\n",
       "      <td>0,01</td>\n",
       "      <td>0,005</td>\n",
       "    </tr>\n",
       "    <tr>\n",
       "      <th>2</th>\n",
       "      <td>02/03/2018 11:18</td>\n",
       "      <td>664</td>\n",
       "      <td>0,003440362</td>\n",
       "      <td>0,002912695</td>\n",
       "      <td>0,006622684</td>\n",
       "      <td>0,009302711</td>\n",
       "      <td>0,010210842</td>\n",
       "      <td>0,011266201</td>\n",
       "      <td>0,007961285</td>\n",
       "      <td>0,004485782</td>\n",
       "      <td>0,01</td>\n",
       "      <td>0,005</td>\n",
       "    </tr>\n",
       "    <tr>\n",
       "      <th>3</th>\n",
       "      <td>05/03/2018 07:42</td>\n",
       "      <td>11955</td>\n",
       "      <td>0,007455071</td>\n",
       "      <td>0,004046415</td>\n",
       "      <td>0,005582244</td>\n",
       "      <td>0,011148532</td>\n",
       "      <td>0,005209666</td>\n",
       "      <td>0,006265591</td>\n",
       "      <td>0,006771616</td>\n",
       "      <td>0,008961829</td>\n",
       "      <td>0,01</td>\n",
       "      <td>0,005</td>\n",
       "    </tr>\n",
       "    <tr>\n",
       "      <th>4</th>\n",
       "      <td>05/03/2018 07:43</td>\n",
       "      <td>11955</td>\n",
       "      <td>0,007982813</td>\n",
       "      <td>0,00236683</td>\n",
       "      <td>0,008592006</td>\n",
       "      <td>0,00705735</td>\n",
       "      <td>0,006530786</td>\n",
       "      <td>0,008893737</td>\n",
       "      <td>0,006261098</td>\n",
       "      <td>0,007048056</td>\n",
       "      <td>0,01</td>\n",
       "      <td>0,005</td>\n",
       "    </tr>\n",
       "  </tbody>\n",
       "</table>\n",
       "</div>"
      ],
      "text/plain": [
       "          Timestamp Serial_Number Spectrum_H29_2R Spectrum_H29_2T  \\\n",
       "0  02/03/2018 11:16           664     0,005684887     0,003582062   \n",
       "1  02/03/2018 11:17           664      0,00529535     0,004932173   \n",
       "2  02/03/2018 11:18           664     0,003440362     0,002912695   \n",
       "3  05/03/2018 07:42         11955     0,007455071     0,004046415   \n",
       "4  05/03/2018 07:43         11955     0,007982813      0,00236683   \n",
       "\n",
       "  Spectrum_H56_2R Spectrum_H56_2T Spectrum_H57_2R Spectrum_H57_2T  \\\n",
       "0     0,006776467     0,006435905     0,007683833     0,008451626   \n",
       "1     0,006106189     0,009485114     0,003434228     0,007939726   \n",
       "2     0,006622684     0,009302711     0,010210842     0,011266201   \n",
       "3     0,005582244     0,011148532     0,005209666     0,006265591   \n",
       "4     0,008592006      0,00705735     0,006530786     0,008893737   \n",
       "\n",
       "  Spectrum_H58_2R Spectrum_H58_2T result_H29_2R result_H29_2T  \n",
       "0     0,004948708     0,006481649          0,01         0,005  \n",
       "1     0,008026021     0,011386434          0,01         0,005  \n",
       "2     0,007961285     0,004485782          0,01         0,005  \n",
       "3     0,006771616     0,008961829          0,01         0,005  \n",
       "4     0,006261098     0,007048056          0,01         0,005  "
      ]
     },
     "execution_count": 1145,
     "metadata": {},
     "output_type": "execute_result"
    }
   ],
   "source": [
    "train2.head()"
   ]
  },
  {
   "cell_type": "markdown",
   "metadata": {},
   "source": [
    "#### 1. L'objectif est de calculer la cible (boite à forte vibration ou non)"
   ]
  },
  {
   "cell_type": "markdown",
   "metadata": {},
   "source": [
    "- Pour les spectres Spectrum H292R et Spectrum H292T, calculer la variable cible (vibration vs non vibration) pour chaque boite et chaque ordre (T et R). On considèrera qu'une boite est à forte vibration si la moyenne de son spectre est supérieure à sa valeur limite."
   ]
  },
  {
   "cell_type": "code",
   "execution_count": 1146,
   "metadata": {},
   "outputs": [
    {
     "data": {
      "text/plain": [
       "Timestamp          0\n",
       "Serial_Number      0\n",
       "Spectrum_H29_2R    0\n",
       "Spectrum_H29_2T    0\n",
       "Spectrum_H56_2R    0\n",
       "Spectrum_H56_2T    0\n",
       "Spectrum_H57_2R    0\n",
       "Spectrum_H57_2T    0\n",
       "Spectrum_H58_2R    0\n",
       "Spectrum_H58_2T    0\n",
       "result_H29_2R      0\n",
       "result_H29_2T      0\n",
       "dtype: int64"
      ]
     },
     "execution_count": 1146,
     "metadata": {},
     "output_type": "execute_result"
    }
   ],
   "source": [
    "train2.isnull().sum()"
   ]
  },
  {
   "cell_type": "code",
   "execution_count": 1147,
   "metadata": {},
   "outputs": [
    {
     "data": {
      "text/html": [
       "<div>\n",
       "<style scoped>\n",
       "    .dataframe tbody tr th:only-of-type {\n",
       "        vertical-align: middle;\n",
       "    }\n",
       "\n",
       "    .dataframe tbody tr th {\n",
       "        vertical-align: top;\n",
       "    }\n",
       "\n",
       "    .dataframe thead th {\n",
       "        text-align: right;\n",
       "    }\n",
       "</style>\n",
       "<table border=\"1\" class=\"dataframe\">\n",
       "  <thead>\n",
       "    <tr style=\"text-align: right;\">\n",
       "      <th></th>\n",
       "      <th>Timestamp</th>\n",
       "      <th>Serial_Number</th>\n",
       "      <th>Spectrum_H29_2R</th>\n",
       "      <th>Spectrum_H29_2T</th>\n",
       "      <th>Spectrum_H56_2R</th>\n",
       "      <th>Spectrum_H56_2T</th>\n",
       "      <th>Spectrum_H57_2R</th>\n",
       "      <th>Spectrum_H57_2T</th>\n",
       "      <th>Spectrum_H58_2R</th>\n",
       "      <th>Spectrum_H58_2T</th>\n",
       "      <th>result_H29_2R</th>\n",
       "      <th>result_H29_2T</th>\n",
       "    </tr>\n",
       "  </thead>\n",
       "  <tbody>\n",
       "    <tr>\n",
       "      <th>0</th>\n",
       "      <td>02/03/2018 11:16</td>\n",
       "      <td>664</td>\n",
       "      <td>0.005685</td>\n",
       "      <td>0.003582</td>\n",
       "      <td>0.006776</td>\n",
       "      <td>0.006436</td>\n",
       "      <td>0.007684</td>\n",
       "      <td>0.008452</td>\n",
       "      <td>0.004949</td>\n",
       "      <td>0.006482</td>\n",
       "      <td>0.01</td>\n",
       "      <td>0.005</td>\n",
       "    </tr>\n",
       "    <tr>\n",
       "      <th>1</th>\n",
       "      <td>02/03/2018 11:17</td>\n",
       "      <td>664</td>\n",
       "      <td>0.005295</td>\n",
       "      <td>0.004932</td>\n",
       "      <td>0.006106</td>\n",
       "      <td>0.009485</td>\n",
       "      <td>0.003434</td>\n",
       "      <td>0.007940</td>\n",
       "      <td>0.008026</td>\n",
       "      <td>0.011386</td>\n",
       "      <td>0.01</td>\n",
       "      <td>0.005</td>\n",
       "    </tr>\n",
       "    <tr>\n",
       "      <th>2</th>\n",
       "      <td>02/03/2018 11:18</td>\n",
       "      <td>664</td>\n",
       "      <td>0.003440</td>\n",
       "      <td>0.002913</td>\n",
       "      <td>0.006623</td>\n",
       "      <td>0.009303</td>\n",
       "      <td>0.010211</td>\n",
       "      <td>0.011266</td>\n",
       "      <td>0.007961</td>\n",
       "      <td>0.004486</td>\n",
       "      <td>0.01</td>\n",
       "      <td>0.005</td>\n",
       "    </tr>\n",
       "    <tr>\n",
       "      <th>3</th>\n",
       "      <td>05/03/2018 07:42</td>\n",
       "      <td>11955</td>\n",
       "      <td>0.007455</td>\n",
       "      <td>0.004046</td>\n",
       "      <td>0.005582</td>\n",
       "      <td>0.011149</td>\n",
       "      <td>0.005210</td>\n",
       "      <td>0.006266</td>\n",
       "      <td>0.006772</td>\n",
       "      <td>0.008962</td>\n",
       "      <td>0.01</td>\n",
       "      <td>0.005</td>\n",
       "    </tr>\n",
       "    <tr>\n",
       "      <th>4</th>\n",
       "      <td>05/03/2018 07:43</td>\n",
       "      <td>11955</td>\n",
       "      <td>0.007983</td>\n",
       "      <td>0.002367</td>\n",
       "      <td>0.008592</td>\n",
       "      <td>0.007057</td>\n",
       "      <td>0.006531</td>\n",
       "      <td>0.008894</td>\n",
       "      <td>0.006261</td>\n",
       "      <td>0.007048</td>\n",
       "      <td>0.01</td>\n",
       "      <td>0.005</td>\n",
       "    </tr>\n",
       "  </tbody>\n",
       "</table>\n",
       "</div>"
      ],
      "text/plain": [
       "          Timestamp Serial_Number  Spectrum_H29_2R  Spectrum_H29_2T  \\\n",
       "0  02/03/2018 11:16           664         0.005685         0.003582   \n",
       "1  02/03/2018 11:17           664         0.005295         0.004932   \n",
       "2  02/03/2018 11:18           664         0.003440         0.002913   \n",
       "3  05/03/2018 07:42         11955         0.007455         0.004046   \n",
       "4  05/03/2018 07:43         11955         0.007983         0.002367   \n",
       "\n",
       "   Spectrum_H56_2R  Spectrum_H56_2T  Spectrum_H57_2R  Spectrum_H57_2T  \\\n",
       "0         0.006776         0.006436         0.007684         0.008452   \n",
       "1         0.006106         0.009485         0.003434         0.007940   \n",
       "2         0.006623         0.009303         0.010211         0.011266   \n",
       "3         0.005582         0.011149         0.005210         0.006266   \n",
       "4         0.008592         0.007057         0.006531         0.008894   \n",
       "\n",
       "   Spectrum_H58_2R  Spectrum_H58_2T  result_H29_2R  result_H29_2T  \n",
       "0         0.004949         0.006482           0.01          0.005  \n",
       "1         0.008026         0.011386           0.01          0.005  \n",
       "2         0.007961         0.004486           0.01          0.005  \n",
       "3         0.006772         0.008962           0.01          0.005  \n",
       "4         0.006261         0.007048           0.01          0.005  "
      ]
     },
     "execution_count": 1147,
     "metadata": {},
     "output_type": "execute_result"
    }
   ],
   "source": [
    "for column in train2:\n",
    "    \n",
    "    if column != 'Timestamp' and column != 'Serial_Number':\n",
    "        train2[column] = pd.to_numeric(train2[column].str.replace(',','.'))\n",
    "\n",
    "train2.head()"
   ]
  },
  {
   "cell_type": "code",
   "execution_count": 1148,
   "metadata": {},
   "outputs": [
    {
     "data": {
      "text/html": [
       "<div>\n",
       "<style scoped>\n",
       "    .dataframe tbody tr th:only-of-type {\n",
       "        vertical-align: middle;\n",
       "    }\n",
       "\n",
       "    .dataframe tbody tr th {\n",
       "        vertical-align: top;\n",
       "    }\n",
       "\n",
       "    .dataframe thead th {\n",
       "        text-align: right;\n",
       "    }\n",
       "</style>\n",
       "<table border=\"1\" class=\"dataframe\">\n",
       "  <thead>\n",
       "    <tr style=\"text-align: right;\">\n",
       "      <th></th>\n",
       "      <th>Serial_Number</th>\n",
       "      <th>Spectrum_H29_2R</th>\n",
       "      <th>Spectrum_H29_2T</th>\n",
       "      <th>result_H29_2R</th>\n",
       "      <th>result_H29_2T</th>\n",
       "    </tr>\n",
       "  </thead>\n",
       "  <tbody>\n",
       "    <tr>\n",
       "      <th>0</th>\n",
       "      <td>0</td>\n",
       "      <td>0.004507</td>\n",
       "      <td>0.012133</td>\n",
       "      <td>0.008</td>\n",
       "      <td>0.0046</td>\n",
       "    </tr>\n",
       "    <tr>\n",
       "      <th>1</th>\n",
       "      <td>100425</td>\n",
       "      <td>0.032368</td>\n",
       "      <td>0.004689</td>\n",
       "      <td>0.005</td>\n",
       "      <td>0.0040</td>\n",
       "    </tr>\n",
       "    <tr>\n",
       "      <th>2</th>\n",
       "      <td>100431</td>\n",
       "      <td>0.004437</td>\n",
       "      <td>0.002663</td>\n",
       "      <td>0.005</td>\n",
       "      <td>0.0040</td>\n",
       "    </tr>\n",
       "    <tr>\n",
       "      <th>3</th>\n",
       "      <td>100432</td>\n",
       "      <td>0.002748</td>\n",
       "      <td>0.003694</td>\n",
       "      <td>0.005</td>\n",
       "      <td>0.0040</td>\n",
       "    </tr>\n",
       "    <tr>\n",
       "      <th>4</th>\n",
       "      <td>100436</td>\n",
       "      <td>0.006130</td>\n",
       "      <td>0.004625</td>\n",
       "      <td>0.005</td>\n",
       "      <td>0.0040</td>\n",
       "    </tr>\n",
       "  </tbody>\n",
       "</table>\n",
       "</div>"
      ],
      "text/plain": [
       "  Serial_Number  Spectrum_H29_2R  Spectrum_H29_2T  result_H29_2R  \\\n",
       "0             0         0.004507         0.012133          0.008   \n",
       "1        100425         0.032368         0.004689          0.005   \n",
       "2        100431         0.004437         0.002663          0.005   \n",
       "3        100432         0.002748         0.003694          0.005   \n",
       "4        100436         0.006130         0.004625          0.005   \n",
       "\n",
       "   result_H29_2T  \n",
       "0         0.0046  \n",
       "1         0.0040  \n",
       "2         0.0040  \n",
       "3         0.0040  \n",
       "4         0.0040  "
      ]
     },
     "execution_count": 1148,
     "metadata": {},
     "output_type": "execute_result"
    }
   ],
   "source": [
    "dataset = train2[['Serial_Number','Spectrum_H29_2R','Spectrum_H29_2T','result_H29_2R','result_H29_2T']]\n",
    "dataset = dataset.groupby(by='Serial_Number',as_index=False).mean()\n",
    "dataset.head()"
   ]
  },
  {
   "cell_type": "code",
   "execution_count": 1149,
   "metadata": {},
   "outputs": [
    {
     "data": {
      "text/html": [
       "<div>\n",
       "<style scoped>\n",
       "    .dataframe tbody tr th:only-of-type {\n",
       "        vertical-align: middle;\n",
       "    }\n",
       "\n",
       "    .dataframe tbody tr th {\n",
       "        vertical-align: top;\n",
       "    }\n",
       "\n",
       "    .dataframe thead th {\n",
       "        text-align: right;\n",
       "    }\n",
       "</style>\n",
       "<table border=\"1\" class=\"dataframe\">\n",
       "  <thead>\n",
       "    <tr style=\"text-align: right;\">\n",
       "      <th></th>\n",
       "      <th>Serial_Number</th>\n",
       "      <th>Spectrum_H29_2R</th>\n",
       "      <th>Spectrum_H29_2T</th>\n",
       "      <th>result_H29_2R</th>\n",
       "      <th>result_H29_2T</th>\n",
       "      <th>vibration_H29_2R</th>\n",
       "      <th>vibration_H29_2T</th>\n",
       "    </tr>\n",
       "  </thead>\n",
       "  <tbody>\n",
       "    <tr>\n",
       "      <th>0</th>\n",
       "      <td>0</td>\n",
       "      <td>0.004507</td>\n",
       "      <td>0.012133</td>\n",
       "      <td>0.008</td>\n",
       "      <td>0.0046</td>\n",
       "      <td>0</td>\n",
       "      <td>1</td>\n",
       "    </tr>\n",
       "    <tr>\n",
       "      <th>1</th>\n",
       "      <td>100425</td>\n",
       "      <td>0.032368</td>\n",
       "      <td>0.004689</td>\n",
       "      <td>0.005</td>\n",
       "      <td>0.0040</td>\n",
       "      <td>1</td>\n",
       "      <td>1</td>\n",
       "    </tr>\n",
       "    <tr>\n",
       "      <th>2</th>\n",
       "      <td>100431</td>\n",
       "      <td>0.004437</td>\n",
       "      <td>0.002663</td>\n",
       "      <td>0.005</td>\n",
       "      <td>0.0040</td>\n",
       "      <td>0</td>\n",
       "      <td>0</td>\n",
       "    </tr>\n",
       "    <tr>\n",
       "      <th>3</th>\n",
       "      <td>100432</td>\n",
       "      <td>0.002748</td>\n",
       "      <td>0.003694</td>\n",
       "      <td>0.005</td>\n",
       "      <td>0.0040</td>\n",
       "      <td>0</td>\n",
       "      <td>0</td>\n",
       "    </tr>\n",
       "    <tr>\n",
       "      <th>4</th>\n",
       "      <td>100436</td>\n",
       "      <td>0.006130</td>\n",
       "      <td>0.004625</td>\n",
       "      <td>0.005</td>\n",
       "      <td>0.0040</td>\n",
       "      <td>1</td>\n",
       "      <td>1</td>\n",
       "    </tr>\n",
       "  </tbody>\n",
       "</table>\n",
       "</div>"
      ],
      "text/plain": [
       "  Serial_Number  Spectrum_H29_2R  Spectrum_H29_2T  result_H29_2R  \\\n",
       "0             0         0.004507         0.012133          0.008   \n",
       "1        100425         0.032368         0.004689          0.005   \n",
       "2        100431         0.004437         0.002663          0.005   \n",
       "3        100432         0.002748         0.003694          0.005   \n",
       "4        100436         0.006130         0.004625          0.005   \n",
       "\n",
       "   result_H29_2T  vibration_H29_2R  vibration_H29_2T  \n",
       "0         0.0046                 0                 1  \n",
       "1         0.0040                 1                 1  \n",
       "2         0.0040                 0                 0  \n",
       "3         0.0040                 0                 0  \n",
       "4         0.0040                 1                 1  "
      ]
     },
     "execution_count": 1149,
     "metadata": {},
     "output_type": "execute_result"
    }
   ],
   "source": [
    "dataset['vibration_H29_2R'] = dataset['Spectrum_H29_2R'] > dataset['result_H29_2R']\n",
    "dataset['vibration_H29_2R'] = dataset['vibration_H29_2R'].astype(int)\n",
    "\n",
    "dataset['vibration_H29_2T'] = dataset['Spectrum_H29_2T'] > dataset['result_H29_2T']\n",
    "dataset['vibration_H29_2T'] = dataset['vibration_H29_2T'].astype(int)\n",
    "\n",
    "dataset.head()"
   ]
  },
  {
   "cell_type": "markdown",
   "metadata": {},
   "source": [
    "Nous avons crée un nouveau DataFrame appelé dataset dans lequel on a deux colonnes 'vibration' qui indiquent si la boite est à forte vibration ou non (1 si oui, 0 sinon). \n",
    "\n",
    "Ainsi, si une boite possède au moins un 1, elle sera considéré comme vibrante, sinon non."
   ]
  },
  {
   "cell_type": "markdown",
   "metadata": {},
   "source": [
    "#### 2. Modéliser alors la vibration en fonction des spectres aux autres fréquences H56, H57, H58"
   ]
  },
  {
   "cell_type": "code",
   "execution_count": 1150,
   "metadata": {},
   "outputs": [
    {
     "data": {
      "text/html": [
       "<div>\n",
       "<style scoped>\n",
       "    .dataframe tbody tr th:only-of-type {\n",
       "        vertical-align: middle;\n",
       "    }\n",
       "\n",
       "    .dataframe tbody tr th {\n",
       "        vertical-align: top;\n",
       "    }\n",
       "\n",
       "    .dataframe thead th {\n",
       "        text-align: right;\n",
       "    }\n",
       "</style>\n",
       "<table border=\"1\" class=\"dataframe\">\n",
       "  <thead>\n",
       "    <tr style=\"text-align: right;\">\n",
       "      <th></th>\n",
       "      <th>Serial_Number</th>\n",
       "      <th>Spectrum_H29_2R</th>\n",
       "      <th>Spectrum_H29_2T</th>\n",
       "      <th>Spectrum_H56_2R</th>\n",
       "      <th>Spectrum_H56_2T</th>\n",
       "      <th>Spectrum_H57_2R</th>\n",
       "      <th>Spectrum_H57_2T</th>\n",
       "      <th>Spectrum_H58_2R</th>\n",
       "      <th>Spectrum_H58_2T</th>\n",
       "      <th>result_H29_2R</th>\n",
       "      <th>result_H29_2T</th>\n",
       "    </tr>\n",
       "  </thead>\n",
       "  <tbody>\n",
       "    <tr>\n",
       "      <th>0</th>\n",
       "      <td>0</td>\n",
       "      <td>0.004507</td>\n",
       "      <td>0.012133</td>\n",
       "      <td>0.005866</td>\n",
       "      <td>0.007643</td>\n",
       "      <td>0.004328</td>\n",
       "      <td>0.006183</td>\n",
       "      <td>0.006021</td>\n",
       "      <td>0.009096</td>\n",
       "      <td>0.008</td>\n",
       "      <td>0.0046</td>\n",
       "    </tr>\n",
       "    <tr>\n",
       "      <th>1</th>\n",
       "      <td>100425</td>\n",
       "      <td>0.032368</td>\n",
       "      <td>0.004689</td>\n",
       "      <td>0.006624</td>\n",
       "      <td>0.008089</td>\n",
       "      <td>0.006833</td>\n",
       "      <td>0.010154</td>\n",
       "      <td>0.019036</td>\n",
       "      <td>0.007979</td>\n",
       "      <td>0.005</td>\n",
       "      <td>0.0040</td>\n",
       "    </tr>\n",
       "    <tr>\n",
       "      <th>2</th>\n",
       "      <td>100431</td>\n",
       "      <td>0.004437</td>\n",
       "      <td>0.002663</td>\n",
       "      <td>0.007735</td>\n",
       "      <td>0.004784</td>\n",
       "      <td>0.008976</td>\n",
       "      <td>0.007945</td>\n",
       "      <td>0.007421</td>\n",
       "      <td>0.007603</td>\n",
       "      <td>0.005</td>\n",
       "      <td>0.0040</td>\n",
       "    </tr>\n",
       "    <tr>\n",
       "      <th>3</th>\n",
       "      <td>100432</td>\n",
       "      <td>0.002748</td>\n",
       "      <td>0.003694</td>\n",
       "      <td>0.009721</td>\n",
       "      <td>0.006882</td>\n",
       "      <td>0.006768</td>\n",
       "      <td>0.010773</td>\n",
       "      <td>0.007170</td>\n",
       "      <td>0.004751</td>\n",
       "      <td>0.005</td>\n",
       "      <td>0.0040</td>\n",
       "    </tr>\n",
       "    <tr>\n",
       "      <th>4</th>\n",
       "      <td>100436</td>\n",
       "      <td>0.006130</td>\n",
       "      <td>0.004625</td>\n",
       "      <td>0.002385</td>\n",
       "      <td>0.009154</td>\n",
       "      <td>0.004067</td>\n",
       "      <td>0.008310</td>\n",
       "      <td>0.005358</td>\n",
       "      <td>0.008884</td>\n",
       "      <td>0.005</td>\n",
       "      <td>0.0040</td>\n",
       "    </tr>\n",
       "  </tbody>\n",
       "</table>\n",
       "</div>"
      ],
      "text/plain": [
       "  Serial_Number  Spectrum_H29_2R  Spectrum_H29_2T  Spectrum_H56_2R  \\\n",
       "0             0         0.004507         0.012133         0.005866   \n",
       "1        100425         0.032368         0.004689         0.006624   \n",
       "2        100431         0.004437         0.002663         0.007735   \n",
       "3        100432         0.002748         0.003694         0.009721   \n",
       "4        100436         0.006130         0.004625         0.002385   \n",
       "\n",
       "   Spectrum_H56_2T  Spectrum_H57_2R  Spectrum_H57_2T  Spectrum_H58_2R  \\\n",
       "0         0.007643         0.004328         0.006183         0.006021   \n",
       "1         0.008089         0.006833         0.010154         0.019036   \n",
       "2         0.004784         0.008976         0.007945         0.007421   \n",
       "3         0.006882         0.006768         0.010773         0.007170   \n",
       "4         0.009154         0.004067         0.008310         0.005358   \n",
       "\n",
       "   Spectrum_H58_2T  result_H29_2R  result_H29_2T  \n",
       "0         0.009096          0.008         0.0046  \n",
       "1         0.007979          0.005         0.0040  \n",
       "2         0.007603          0.005         0.0040  \n",
       "3         0.004751          0.005         0.0040  \n",
       "4         0.008884          0.005         0.0040  "
      ]
     },
     "execution_count": 1150,
     "metadata": {},
     "output_type": "execute_result"
    }
   ],
   "source": [
    "dataset2 = train2\n",
    "dataset2 = dataset2.groupby(by='Serial_Number',as_index=False).mean()\n",
    "dataset2.head()"
   ]
  },
  {
   "cell_type": "code",
   "execution_count": 1151,
   "metadata": {},
   "outputs": [
    {
     "data": {
      "text/html": [
       "<div>\n",
       "<style scoped>\n",
       "    .dataframe tbody tr th:only-of-type {\n",
       "        vertical-align: middle;\n",
       "    }\n",
       "\n",
       "    .dataframe tbody tr th {\n",
       "        vertical-align: top;\n",
       "    }\n",
       "\n",
       "    .dataframe thead th {\n",
       "        text-align: right;\n",
       "    }\n",
       "</style>\n",
       "<table border=\"1\" class=\"dataframe\">\n",
       "  <thead>\n",
       "    <tr style=\"text-align: right;\">\n",
       "      <th></th>\n",
       "      <th>Serial_Number</th>\n",
       "      <th>Spectrum_H29_2R</th>\n",
       "      <th>Spectrum_H29_2T</th>\n",
       "      <th>Spectrum_H56_2R</th>\n",
       "      <th>Spectrum_H56_2T</th>\n",
       "      <th>Spectrum_H57_2R</th>\n",
       "      <th>Spectrum_H57_2T</th>\n",
       "      <th>Spectrum_H58_2R</th>\n",
       "      <th>Spectrum_H58_2T</th>\n",
       "      <th>result_H29_2R</th>\n",
       "      <th>result_H29_2T</th>\n",
       "      <th>vibration_H29_2R</th>\n",
       "      <th>vibration_H29_2T</th>\n",
       "    </tr>\n",
       "  </thead>\n",
       "  <tbody>\n",
       "    <tr>\n",
       "      <th>0</th>\n",
       "      <td>0</td>\n",
       "      <td>0.004507</td>\n",
       "      <td>0.012133</td>\n",
       "      <td>0.005866</td>\n",
       "      <td>0.007643</td>\n",
       "      <td>0.004328</td>\n",
       "      <td>0.006183</td>\n",
       "      <td>0.006021</td>\n",
       "      <td>0.009096</td>\n",
       "      <td>0.008</td>\n",
       "      <td>0.0046</td>\n",
       "      <td>0</td>\n",
       "      <td>1</td>\n",
       "    </tr>\n",
       "    <tr>\n",
       "      <th>1</th>\n",
       "      <td>100425</td>\n",
       "      <td>0.032368</td>\n",
       "      <td>0.004689</td>\n",
       "      <td>0.006624</td>\n",
       "      <td>0.008089</td>\n",
       "      <td>0.006833</td>\n",
       "      <td>0.010154</td>\n",
       "      <td>0.019036</td>\n",
       "      <td>0.007979</td>\n",
       "      <td>0.005</td>\n",
       "      <td>0.0040</td>\n",
       "      <td>1</td>\n",
       "      <td>1</td>\n",
       "    </tr>\n",
       "    <tr>\n",
       "      <th>2</th>\n",
       "      <td>100431</td>\n",
       "      <td>0.004437</td>\n",
       "      <td>0.002663</td>\n",
       "      <td>0.007735</td>\n",
       "      <td>0.004784</td>\n",
       "      <td>0.008976</td>\n",
       "      <td>0.007945</td>\n",
       "      <td>0.007421</td>\n",
       "      <td>0.007603</td>\n",
       "      <td>0.005</td>\n",
       "      <td>0.0040</td>\n",
       "      <td>0</td>\n",
       "      <td>0</td>\n",
       "    </tr>\n",
       "    <tr>\n",
       "      <th>3</th>\n",
       "      <td>100432</td>\n",
       "      <td>0.002748</td>\n",
       "      <td>0.003694</td>\n",
       "      <td>0.009721</td>\n",
       "      <td>0.006882</td>\n",
       "      <td>0.006768</td>\n",
       "      <td>0.010773</td>\n",
       "      <td>0.007170</td>\n",
       "      <td>0.004751</td>\n",
       "      <td>0.005</td>\n",
       "      <td>0.0040</td>\n",
       "      <td>0</td>\n",
       "      <td>0</td>\n",
       "    </tr>\n",
       "    <tr>\n",
       "      <th>4</th>\n",
       "      <td>100436</td>\n",
       "      <td>0.006130</td>\n",
       "      <td>0.004625</td>\n",
       "      <td>0.002385</td>\n",
       "      <td>0.009154</td>\n",
       "      <td>0.004067</td>\n",
       "      <td>0.008310</td>\n",
       "      <td>0.005358</td>\n",
       "      <td>0.008884</td>\n",
       "      <td>0.005</td>\n",
       "      <td>0.0040</td>\n",
       "      <td>1</td>\n",
       "      <td>1</td>\n",
       "    </tr>\n",
       "  </tbody>\n",
       "</table>\n",
       "</div>"
      ],
      "text/plain": [
       "  Serial_Number  Spectrum_H29_2R  Spectrum_H29_2T  Spectrum_H56_2R  \\\n",
       "0             0         0.004507         0.012133         0.005866   \n",
       "1        100425         0.032368         0.004689         0.006624   \n",
       "2        100431         0.004437         0.002663         0.007735   \n",
       "3        100432         0.002748         0.003694         0.009721   \n",
       "4        100436         0.006130         0.004625         0.002385   \n",
       "\n",
       "   Spectrum_H56_2T  Spectrum_H57_2R  Spectrum_H57_2T  Spectrum_H58_2R  \\\n",
       "0         0.007643         0.004328         0.006183         0.006021   \n",
       "1         0.008089         0.006833         0.010154         0.019036   \n",
       "2         0.004784         0.008976         0.007945         0.007421   \n",
       "3         0.006882         0.006768         0.010773         0.007170   \n",
       "4         0.009154         0.004067         0.008310         0.005358   \n",
       "\n",
       "   Spectrum_H58_2T  result_H29_2R  result_H29_2T  vibration_H29_2R  \\\n",
       "0         0.009096          0.008         0.0046                 0   \n",
       "1         0.007979          0.005         0.0040                 1   \n",
       "2         0.007603          0.005         0.0040                 0   \n",
       "3         0.004751          0.005         0.0040                 0   \n",
       "4         0.008884          0.005         0.0040                 1   \n",
       "\n",
       "   vibration_H29_2T  \n",
       "0                 1  \n",
       "1                 1  \n",
       "2                 0  \n",
       "3                 0  \n",
       "4                 1  "
      ]
     },
     "execution_count": 1151,
     "metadata": {},
     "output_type": "execute_result"
    }
   ],
   "source": [
    "dataset2['vibration_H29_2R'] = dataset2['Spectrum_H29_2R'] > dataset2['result_H29_2R']\n",
    "dataset2['vibration_H29_2R'] = dataset2['vibration_H29_2R'].astype(int)\n",
    "\n",
    "dataset2['vibration_H29_2T'] = dataset2['Spectrum_H29_2T'] > dataset2['result_H29_2T']\n",
    "dataset2['vibration_H29_2T'] = dataset2['vibration_H29_2T'].astype(int)\n",
    "\n",
    "dataset2.head()"
   ]
  }
 ],
 "metadata": {
  "kernelspec": {
   "display_name": "Python 3",
   "language": "python",
   "name": "python3"
  },
  "language_info": {
   "codemirror_mode": {
    "name": "ipython",
    "version": 3
   },
   "file_extension": ".py",
   "mimetype": "text/x-python",
   "name": "python",
   "nbconvert_exporter": "python",
   "pygments_lexer": "ipython3",
   "version": "3.6.5"
  }
 },
 "nbformat": 4,
 "nbformat_minor": 2
}
