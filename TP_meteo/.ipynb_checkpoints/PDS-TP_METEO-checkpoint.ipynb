{
 "cells": [
  {
   "cell_type": "code",
   "execution_count": 3,
   "metadata": {
    "_cell_guid": "b1076dfc-b9ad-4769-8c92-a6c4dae69d19",
    "_uuid": "8f2839f25d086af736a60e9eeb907d3b93b6e0e5"
   },
   "outputs": [
    {
     "name": "stdout",
     "output_type": "stream",
     "text": [
      "['conso_train.csv', 'meteo_train.csv', 'meteo_prev.csv', 'sample_solution.csv']\n"
     ]
    }
   ],
   "source": [
    "import numpy as np # linear algebra\n",
    "import pandas as ps # data processing, CSV file I/O (e.g. pd.read_csv)\n",
    "from datetime import datetime,timedelta\n",
    "from sklearn.metrics import mean_squared_error\n",
    "# Input data files are available in the \"../input/\" directory.\n",
    "# For example, running this (by clicking run or pressing Shift+Enter) will list the files in the input directory\n",
    "\n",
    "import os\n",
    "print(os.listdir(\"./data\"))\n",
    "\n",
    "# Any results you write to the current directory are saved as output."
   ]
  },
  {
   "cell_type": "code",
   "execution_count": 4,
   "metadata": {
    "_uuid": "edc4118d17792c6574591fa919eef2384d3f7123"
   },
   "outputs": [],
   "source": [
    "def parse_model(X,targetColumnsName, useColumns):\n",
    "    if targetColumnsName not in X.columns:\n",
    "        raise ValueError(\"target column survived should belong to df\")\n",
    "    target = X[targetColumnsName]\n",
    "    X = X[useColumns]\n",
    "    return X, target"
   ]
  },
  {
   "cell_type": "code",
   "execution_count": 5,
   "metadata": {
    "_uuid": "fc958abe50e461a144c5b1864ef2f4a840cb7754"
   },
   "outputs": [],
   "source": [
    "# Colonne/features à utiliser\n",
    "modelCols_0 =[]"
   ]
  },
  {
   "cell_type": "code",
   "execution_count": 6,
   "metadata": {
    "_uuid": "527d6bf543b1a963933699b9260decc1966364cc"
   },
   "outputs": [],
   "source": [
    "# calcul du RMSE\n",
    "def RMSE(y_test,y_prediction):\n",
    "        return np.sqrt(((y_prediction - y_test) ** 2).mean())"
   ]
  },
  {
   "cell_type": "code",
   "execution_count": 7,
   "metadata": {
    "_uuid": "d521f9327b816b1ea20ceec42e484f9941be9966"
   },
   "outputs": [],
   "source": [
    "# Methode de modelisation \n",
    "# modelAlgo => l'algo (ex : randomForest, regressionLogstic)\n",
    "# dfDate : le dataframe concerné par la modelisation\n",
    "# features : un array contenant les colonnes/features à utiliser pendant la modelisation\n",
    "# targerName : le nom de la target\n",
    "\n",
    "## return => le score|RMSE\n",
    "def modelisationProcessing(modelAlgo,dfData,features,targetName):\n",
    "    X, y = parse_model(dfData.copy(),targetName, features)\n",
    "    list_test_size = [a/20.0 for a in list(range(0,20,1))][1:]\n",
    "    scores = []\n",
    "    for ts in list_test_size:\n",
    "        X_train, X_test, y_train,y_test = train_test_split(X,y,test_size=0.3,random_state=0)\n",
    "        modelAlgoFitted = modelAlgo.fit(X_train,y_train)\n",
    "        scores.append(modelAlgoFitted.score(X_test,y_test))\n",
    "    # calcul du RMSE\n",
    "    y_pred = modelAlgoFitted.predict(X_test)\n",
    "    rmse = RMSE(y_test,y_pred)\n",
    "    return np.array(scores).mean(),rmse"
   ]
  },
  {
   "cell_type": "code",
   "execution_count": 10,
   "metadata": {
    "_uuid": "4ed2a9a46ccefeaf4be472acbb259285cceab607"
   },
   "outputs": [
    {
     "data": {
      "text/html": [
       "<div>\n",
       "<style scoped>\n",
       "    .dataframe tbody tr th:only-of-type {\n",
       "        vertical-align: middle;\n",
       "    }\n",
       "\n",
       "    .dataframe tbody tr th {\n",
       "        vertical-align: top;\n",
       "    }\n",
       "\n",
       "    .dataframe thead th {\n",
       "        text-align: right;\n",
       "    }\n",
       "</style>\n",
       "<table border=\"1\" class=\"dataframe\">\n",
       "  <thead>\n",
       "    <tr style=\"text-align: right;\">\n",
       "      <th></th>\n",
       "      <th>Date UTC</th>\n",
       "      <th>T¬∞ (C)</th>\n",
       "      <th>P (hPa)</th>\n",
       "      <th>HR (%)</th>\n",
       "      <th>P.ros√©e (¬∞C)</th>\n",
       "      <th>Visi (km)</th>\n",
       "      <th>Vt. moy. (km/h)</th>\n",
       "      <th>Vt. raf. (km/h)</th>\n",
       "      <th>Vt. dir (¬∞)</th>\n",
       "      <th>RR 3h (mm)</th>\n",
       "      <th>Neige (cm)</th>\n",
       "      <th>Nebul. (octats)</th>\n",
       "    </tr>\n",
       "  </thead>\n",
       "  <tbody>\n",
       "    <tr>\n",
       "      <th>0</th>\n",
       "      <td>13/09/15 00h00</td>\n",
       "      <td>12.5</td>\n",
       "      <td>1008.7</td>\n",
       "      <td>81.0</td>\n",
       "      <td>9.3</td>\n",
       "      <td>40.0</td>\n",
       "      <td>9.260</td>\n",
       "      <td>18.520</td>\n",
       "      <td>140.0</td>\n",
       "      <td>0.0</td>\n",
       "      <td>NaN</td>\n",
       "      <td>8.0</td>\n",
       "    </tr>\n",
       "    <tr>\n",
       "      <th>1</th>\n",
       "      <td>13/09/15 03h00</td>\n",
       "      <td>12.3</td>\n",
       "      <td>1006.4</td>\n",
       "      <td>83.0</td>\n",
       "      <td>9.5</td>\n",
       "      <td>40.0</td>\n",
       "      <td>11.112</td>\n",
       "      <td>16.668</td>\n",
       "      <td>120.0</td>\n",
       "      <td>0.0</td>\n",
       "      <td>NaN</td>\n",
       "      <td>8.0</td>\n",
       "    </tr>\n",
       "    <tr>\n",
       "      <th>2</th>\n",
       "      <td>13/09/15 06h00</td>\n",
       "      <td>12.3</td>\n",
       "      <td>1004.7</td>\n",
       "      <td>82.0</td>\n",
       "      <td>9.3</td>\n",
       "      <td>40.0</td>\n",
       "      <td>14.816</td>\n",
       "      <td>22.224</td>\n",
       "      <td>130.0</td>\n",
       "      <td>NaN</td>\n",
       "      <td>NaN</td>\n",
       "      <td>7.0</td>\n",
       "    </tr>\n",
       "    <tr>\n",
       "      <th>3</th>\n",
       "      <td>13/09/15 09h00</td>\n",
       "      <td>14.2</td>\n",
       "      <td>1002.9</td>\n",
       "      <td>80.0</td>\n",
       "      <td>10.8</td>\n",
       "      <td>40.0</td>\n",
       "      <td>18.520</td>\n",
       "      <td>31.484</td>\n",
       "      <td>140.0</td>\n",
       "      <td>NaN</td>\n",
       "      <td>NaN</td>\n",
       "      <td>7.0</td>\n",
       "    </tr>\n",
       "    <tr>\n",
       "      <th>4</th>\n",
       "      <td>13/09/15 12h00</td>\n",
       "      <td>13.3</td>\n",
       "      <td>1000.8</td>\n",
       "      <td>93.0</td>\n",
       "      <td>12.2</td>\n",
       "      <td>4.0</td>\n",
       "      <td>18.520</td>\n",
       "      <td>38.892</td>\n",
       "      <td>140.0</td>\n",
       "      <td>4.0</td>\n",
       "      <td>NaN</td>\n",
       "      <td>7.0</td>\n",
       "    </tr>\n",
       "  </tbody>\n",
       "</table>\n",
       "</div>"
      ],
      "text/plain": [
       "         Date UTC  T¬∞ (C)  P (hPa)  HR (%)  P.ros√©e (¬∞C)  Visi (km)  \\\n",
       "0  13/09/15 00h00     12.5   1008.7    81.0             9.3       40.0   \n",
       "1  13/09/15 03h00     12.3   1006.4    83.0             9.5       40.0   \n",
       "2  13/09/15 06h00     12.3   1004.7    82.0             9.3       40.0   \n",
       "3  13/09/15 09h00     14.2   1002.9    80.0            10.8       40.0   \n",
       "4  13/09/15 12h00     13.3   1000.8    93.0            12.2        4.0   \n",
       "\n",
       "   Vt. moy. (km/h)  Vt. raf. (km/h)  Vt. dir (¬∞)  RR 3h (mm)  Neige (cm)  \\\n",
       "0            9.260           18.520         140.0         0.0         NaN   \n",
       "1           11.112           16.668         120.0         0.0         NaN   \n",
       "2           14.816           22.224         130.0         NaN         NaN   \n",
       "3           18.520           31.484         140.0         NaN         NaN   \n",
       "4           18.520           38.892         140.0         4.0         NaN   \n",
       "\n",
       "   Nebul. (octats)  \n",
       "0              8.0  \n",
       "1              8.0  \n",
       "2              7.0  \n",
       "3              7.0  \n",
       "4              7.0  "
      ]
     },
     "execution_count": 10,
     "metadata": {},
     "output_type": "execute_result"
    }
   ],
   "source": [
    "dfMeteoTrain = ps.read_csv('./data/meteo_train.csv',sep=';')\n",
    "dfMeteoTrain.head(5)"
   ]
  },
  {
   "cell_type": "code",
   "execution_count": 11,
   "metadata": {
    "_uuid": "17a153e83a89b297b768dc4c606169e4dca32708"
   },
   "outputs": [
    {
     "data": {
      "text/plain": [
       "Index(['Date UTC', 'Temp_C', 'Pression_hPa', 'HR_%', 'P_ros', 'Visi_km',\n",
       "       'Vt_moy_kmh', 'Vt_raf_kmh', 'Vt_dir', 'RR_3h', 'Neige_cm',\n",
       "       'Nebul_octats'],\n",
       "      dtype='object')"
      ]
     },
     "execution_count": 11,
     "metadata": {},
     "output_type": "execute_result"
    }
   ],
   "source": [
    "# renomage des colonnes\n",
    "dfMeteoTrain.rename(columns={'T¬∞ (C)':'Temp_C','P (hPa)':'Pression_hPa','HR (%)':'HR_%','P.ros√©e (¬∞C)':'P_ros','Visi (km)':'Visi_km','Vt. moy. (km/h)':'Vt_moy_kmh','Vt. raf. (km/h)':'Vt_raf_kmh','Vt. dir (¬∞)':'Vt_dir','RR 3h (mm)':'RR_3h','Neige (cm)':'Neige_cm','Nebul. (octats)':'Nebul_octats'}, inplace=True)\n",
    "dfMeteoTrain.columns"
   ]
  },
  {
   "cell_type": "markdown",
   "metadata": {
    "_uuid": "7318fbdc2fda122c815e7bbc23310eb052cc8233"
   },
   "source": [
    "## traitement des valeurs null"
   ]
  },
  {
   "cell_type": "code",
   "execution_count": 12,
   "metadata": {
    "_uuid": "07a6e335cde95b5d50c14a0cdbc9a39b9fd939d2"
   },
   "outputs": [
    {
     "data": {
      "text/html": [
       "<div>\n",
       "<style scoped>\n",
       "    .dataframe tbody tr th:only-of-type {\n",
       "        vertical-align: middle;\n",
       "    }\n",
       "\n",
       "    .dataframe tbody tr th {\n",
       "        vertical-align: top;\n",
       "    }\n",
       "\n",
       "    .dataframe thead th {\n",
       "        text-align: right;\n",
       "    }\n",
       "</style>\n",
       "<table border=\"1\" class=\"dataframe\">\n",
       "  <thead>\n",
       "    <tr style=\"text-align: right;\">\n",
       "      <th></th>\n",
       "      <th>Date UTC</th>\n",
       "      <th>Temp_C</th>\n",
       "      <th>Pression_hPa</th>\n",
       "      <th>HR_%</th>\n",
       "      <th>P_ros</th>\n",
       "      <th>Visi_km</th>\n",
       "      <th>Vt_moy_kmh</th>\n",
       "      <th>Vt_raf_kmh</th>\n",
       "      <th>Vt_dir</th>\n",
       "      <th>RR_3h</th>\n",
       "      <th>Neige_cm</th>\n",
       "      <th>Nebul_octats</th>\n",
       "    </tr>\n",
       "  </thead>\n",
       "  <tbody>\n",
       "    <tr>\n",
       "      <th>0</th>\n",
       "      <td>0</td>\n",
       "      <td>64</td>\n",
       "      <td>64</td>\n",
       "      <td>64</td>\n",
       "      <td>64</td>\n",
       "      <td>64</td>\n",
       "      <td>64</td>\n",
       "      <td>67</td>\n",
       "      <td>64</td>\n",
       "      <td>336</td>\n",
       "      <td>1957</td>\n",
       "      <td>409</td>\n",
       "    </tr>\n",
       "  </tbody>\n",
       "</table>\n",
       "</div>"
      ],
      "text/plain": [
       "   Date UTC  Temp_C  Pression_hPa  HR_%  P_ros  Visi_km  Vt_moy_kmh  \\\n",
       "0         0      64            64    64     64       64          64   \n",
       "\n",
       "   Vt_raf_kmh  Vt_dir  RR_3h  Neige_cm  Nebul_octats  \n",
       "0          67      64    336      1957           409  "
      ]
     },
     "execution_count": 12,
     "metadata": {},
     "output_type": "execute_result"
    }
   ],
   "source": [
    "# traitement des valeurs null\n",
    "dfValManquante = ps.DataFrame(dfMeteoTrain.isna().sum())\n",
    "dfValManquante = dfValManquante.T\n",
    "dfValManquante"
   ]
  },
  {
   "cell_type": "code",
   "execution_count": 15,
   "metadata": {
    "_uuid": "515e666ded8a28dbc2d4fba254d2749454fe61ed"
   },
   "outputs": [
    {
     "ename": "ModuleNotFoundError",
     "evalue": "No module named 'sklearn.impute'",
     "output_type": "error",
     "traceback": [
      "\u001b[0;31m---------------------------------------------------------------------------\u001b[0m",
      "\u001b[0;31mModuleNotFoundError\u001b[0m                       Traceback (most recent call last)",
      "\u001b[0;32m<ipython-input-15-e82710fe16a8>\u001b[0m in \u001b[0;36m<module>\u001b[0;34m()\u001b[0m\n\u001b[1;32m      1\u001b[0m \u001b[0;31m# replacement des valeur null => imputation\u001b[0m\u001b[0;34m\u001b[0m\u001b[0;34m\u001b[0m\u001b[0m\n\u001b[0;32m----> 2\u001b[0;31m \u001b[0;32mfrom\u001b[0m \u001b[0msklearn\u001b[0m\u001b[0;34m.\u001b[0m\u001b[0mimpute\u001b[0m \u001b[0;32mimport\u001b[0m \u001b[0mSimpleImputer\u001b[0m\u001b[0;34m\u001b[0m\u001b[0m\n\u001b[0m\u001b[1;32m      3\u001b[0m \u001b[0mimputer\u001b[0m \u001b[0;34m=\u001b[0m \u001b[0mSimpleImputer\u001b[0m\u001b[0;34m(\u001b[0m\u001b[0;34m)\u001b[0m\u001b[0;34m\u001b[0m\u001b[0m\n\u001b[1;32m      4\u001b[0m dfMeteoTrain[\n\u001b[1;32m      5\u001b[0m     \u001b[0;34m[\u001b[0m\u001b[0;34m'Temp_C'\u001b[0m\u001b[0;34m,\u001b[0m\u001b[0;34m'Pression_hPa'\u001b[0m\u001b[0;34m,\u001b[0m\u001b[0;34m'HR_%'\u001b[0m\u001b[0;34m,\u001b[0m\u001b[0;34m'P_ros'\u001b[0m\u001b[0;34m,\u001b[0m\u001b[0;34m'Visi_km'\u001b[0m\u001b[0;34m,\u001b[0m\u001b[0;34m'Vt_moy_kmh'\u001b[0m\u001b[0;34m,\u001b[0m\u001b[0;34m'Vt_raf_kmh'\u001b[0m\u001b[0;34m,\u001b[0m\u001b[0;34m'Vt_dir'\u001b[0m\u001b[0;34m,\u001b[0m\u001b[0;34m'RR_3h'\u001b[0m\u001b[0;34m,\u001b[0m\u001b[0;34m'Neige_cm'\u001b[0m\u001b[0;34m,\u001b[0m\u001b[0;34m'Nebul_octats'\u001b[0m\u001b[0;34m]\u001b[0m\u001b[0;34m\u001b[0m\u001b[0m\n",
      "\u001b[0;31mModuleNotFoundError\u001b[0m: No module named 'sklearn.impute'"
     ]
    }
   ],
   "source": [
    "# replacement des valeur null => imputation\n",
    "from sklearn.impute import SimpleImputer\n",
    "imputer = SimpleImputer()\n",
    "dfMeteoTrain[\n",
    "    ['Temp_C','Pression_hPa','HR_%','P_ros','Visi_km','Vt_moy_kmh','Vt_raf_kmh','Vt_dir','RR_3h','Neige_cm','Nebul_octats']\n",
    "] = imputer.fit_transform(dfMeteoTrain[['Temp_C','Pression_hPa','HR_%','P_ros','Visi_km','Vt_moy_kmh','Vt_raf_kmh','Vt_dir','RR_3h','Neige_cm','Nebul_octats']])\n",
    "dfMeteoTrain"
   ]
  },
  {
   "cell_type": "code",
   "execution_count": null,
   "metadata": {
    "_uuid": "43d1c92e2ff881506a48a5c49b4f190755786214"
   },
   "outputs": [],
   "source": [
    "dfValManquante = ps.DataFrame(dfMeteoTrain.isna().sum())\n",
    "dfValManquante = dfValManquante.T\n",
    "dfValManquante"
   ]
  },
  {
   "cell_type": "code",
   "execution_count": null,
   "metadata": {
    "_uuid": "10323f62a721d23b80d392386020142bdbc112d7"
   },
   "outputs": [],
   "source": [
    "# conversion de date UTC en date time\n",
    "dfMeteoTrain['Date UTC'] = dfMeteoTrain['Date UTC'].apply(lambda x: datetime.strptime(x,'%d/%m/%y %Hh%M'))\n",
    "dfMeteoTrain['Date UTC'] = dfMeteoTrain['Date UTC'].apply(lambda x: x.strftime('%d-%m-%y %H:%M'))\n",
    "dfMeteoTrain['Date UTC'] = dfMeteoTrain['Date UTC'].apply(lambda x: datetime.strptime(x,'%d-%m-%y %H:%M'))\n",
    "dfMeteoTrain.head(5)"
   ]
  },
  {
   "cell_type": "markdown",
   "metadata": {
    "_uuid": "4eb0910012f8cf0f443ab1eed3f3a7978a0ebca9"
   },
   "source": [
    "## Dum du numéro de jour :\n",
    "- 0 => dimanche\n",
    "- 1 => lundi \n",
    "etc .."
   ]
  },
  {
   "cell_type": "code",
   "execution_count": null,
   "metadata": {
    "_uuid": "f5e2c69c7beeee6e271c9789bfa08c1ef0606479"
   },
   "outputs": [],
   "source": [
    "dfDumDateDay = ps.DataFrame(dfMeteoTrain['Date UTC'].apply(lambda x: x.weekday()))\n",
    "dfDumDateDay.rename(columns={'Date UTC': 'DateDumDay'}, inplace=True)\n",
    "dfMeteoTrain = dfMeteoTrain.join(dfDumDateDay)\n",
    "dfMeteoTrain.head(5)"
   ]
  },
  {
   "cell_type": "markdown",
   "metadata": {
    "_uuid": "ff9665e78be3e9216d74ffdb366765efdd0f407a"
   },
   "source": [
    "## Dum du numéro de mois :\n",
    "- 1 => janvier\n",
    "- 2 => fevrier\n",
    "etc .."
   ]
  },
  {
   "cell_type": "code",
   "execution_count": null,
   "metadata": {
    "_uuid": "100b07b0f743100e7de0f344e6846ed52be073ff"
   },
   "outputs": [],
   "source": [
    "dfDumDateMonth = ps.DataFrame(dfMeteoTrain['Date UTC'].apply(lambda x: x.month))\n",
    "dfDumDateMonth.rename(columns={'Date UTC': 'DateDumMonth'}, inplace=True)\n",
    "dfMeteoTrain = dfMeteoTrain.join(dfDumDateMonth)\n",
    "dfMeteoTrain.head(5)"
   ]
  },
  {
   "cell_type": "code",
   "execution_count": null,
   "metadata": {
    "_uuid": "127d43b18b72e6bd4a141e813f4208ce10fc8204"
   },
   "outputs": [],
   "source": [
    "modelCols_0 =['Pression_hPa','HR_%','P_ros','Vt_moy_kmh','Vt_dir','DateDumDay','DateDumMonth','Nebul_octats']"
   ]
  },
  {
   "cell_type": "code",
   "execution_count": null,
   "metadata": {
    "_uuid": "c21c68f0026a139cb14305bf297b63d95a4b83c9"
   },
   "outputs": [],
   "source": [
    "# split train/test\n",
    "from sklearn.model_selection import train_test_split\n",
    "from sklearn.ensemble import RandomForestRegressor"
   ]
  },
  {
   "cell_type": "markdown",
   "metadata": {
    "_uuid": "2fec50821ff2a0f8fb98055afb4d6e27ba72649e"
   },
   "source": [
    "## etude du fichier conso"
   ]
  },
  {
   "cell_type": "code",
   "execution_count": null,
   "metadata": {
    "_uuid": "971a98a729bbe7ad7e495bbe652bfe3f186904f6"
   },
   "outputs": [],
   "source": [
    "dfConso = ps.read_csv('../input/conso_train.csv')\n",
    "dfConso.head(10)"
   ]
  },
  {
   "cell_type": "code",
   "execution_count": null,
   "metadata": {
    "_uuid": "f44ceca315f033cb503674e44d2838210dfb4596"
   },
   "outputs": [],
   "source": [
    "# arroundie de la date à l'heure la plus proche\n",
    "def hour_rounder(t):\n",
    "    return (t.replace(second=0, microsecond=0, minute=0, hour=t.hour)\n",
    "               +timedelta(hours=t.minute//30))\n",
    "def standardiserDate(df,col,nouvelleCol):\n",
    "    #dfTmp = df[col].apply(lambda x: x.replace())\n",
    "    df[nouvelleCol] = df[col].apply(lambda x: x.replace(\"+02:00\",\"\"))\n",
    "    df[nouvelleCol] = df[nouvelleCol].apply(lambda x: x.replace(\"+01:00\",\"\"))\n",
    "    df[nouvelleCol] = df[nouvelleCol].apply(lambda x: x.replace(\"T\",\" \"))\n",
    "    df[nouvelleCol] = df[nouvelleCol].apply(lambda x: datetime.strptime(x,'%Y-%m-%d %H:%M:%S'))\n",
    "    df[nouvelleCol] = df[nouvelleCol].apply(lambda x: hour_rounder(x))\n",
    "    # mise en UTC\n",
    "    df[nouvelleCol] = df[nouvelleCol].apply(lambda x: x - timedelta(hours=2))\n",
    "    #df[nouvelleCol] = df[nouvelleCol].apply(lambda t: t.strftime('%d-%m-%y %H:%M'))\n",
    "    #df[nouvelleCol] = df[nouvelleCol].apply(lambda x: datetime.strptime(x,'%Y-%m-%d %H:%M'))                                            \n",
    "standardiserDate(dfConso,'date','dateStd')\n",
    "dfConso.head(10)"
   ]
  },
  {
   "cell_type": "code",
   "execution_count": null,
   "metadata": {
    "_uuid": "8ca8a08a898eec3e6d7e5532938519b5530cb518"
   },
   "outputs": [],
   "source": [
    "# renomage de la col date de dfConso\n",
    "dfConso.rename(columns={'date':'dateOriginalConso'},inplace=True)\n",
    "dfConso.head()"
   ]
  },
  {
   "cell_type": "markdown",
   "metadata": {
    "_uuid": "158626805738bb75d432778395c5c2c7d10c4d3a"
   },
   "source": [
    "## merge des 2 df (en copie) dfMeteoTrain et dfConso sur col Date\n",
    "## [Date UTC] et [dateStd]\n",
    "## Etude de la consommation toute les trois heures\n"
   ]
  },
  {
   "cell_type": "code",
   "execution_count": null,
   "metadata": {
    "_uuid": "0e5cf0b4c003d9c9b22a037f00dc3269625c73ea"
   },
   "outputs": [],
   "source": [
    "dfMeteoTrainCopy = dfMeteoTrain.copy()\n",
    "dfConsoCopy = dfConso.copy()\n",
    "dfMeteoTrainCopy.rename(columns={'Date UTC':\"dateStd\"}, inplace=True)\n",
    "dfMeteoTrainCopy.head(2)"
   ]
  },
  {
   "cell_type": "code",
   "execution_count": null,
   "metadata": {
    "_uuid": "d4fea54b9b06962a3091ba1c8d2aaad6cba16af9"
   },
   "outputs": [],
   "source": [
    "dfMeteoTrainCopy.rename(columns={'Date UTC':\"dateStd\"})\n",
    "dfMerger = ps.merge(dfMeteoTrainCopy,dfConsoCopy,on='dateStd')\n",
    "dfMerger.head(5)"
   ]
  },
  {
   "cell_type": "markdown",
   "metadata": {
    "_uuid": "a925240f6cdcb253346d3c3ff1b7cef56cc0ca2d"
   },
   "source": [
    "## Regression pour predire la consommation => Random Forest"
   ]
  },
  {
   "cell_type": "code",
   "execution_count": null,
   "metadata": {
    "_uuid": "bf6a8805f8c350436226374a564691f4167ee392"
   },
   "outputs": [],
   "source": [
    "modelCols_conso =['Temp_C',\n",
    "                  'Pression_hPa',\n",
    "                  'HR_%',\n",
    "                  'P_ros',\n",
    "                  'Vt_moy_kmh',\n",
    "                  'Vt_raf_kmh',\n",
    "                  'Visi_km',\n",
    "                  'RR_3h',\n",
    "                  'DateDumDay',\n",
    "                  'DateDumMonth',\n",
    "                  'Nebul_octats',\n",
    "                  'Neige_cm']"
   ]
  },
  {
   "cell_type": "code",
   "execution_count": null,
   "metadata": {
    "_uuid": "3686171967ec54f89d07185109b16f1cbda626f8",
    "scrolled": true
   },
   "outputs": [],
   "source": [
    "rf_conso = RandomForestRegressor(n_estimators=150,max_depth=10)\n",
    "targetName = 'puissance'\n",
    "resScore, rmse = modelisationProcessing(rf_conso,dfMerger,modelCols_conso,targetName)\n",
    "\n",
    "print(\"Resultat score : {} RMSE: {}\".format(resScore, rmse))"
   ]
  },
  {
   "cell_type": "markdown",
   "metadata": {
    "_uuid": "fc9824e8f21e041adc9fd625f556c3187fccf4dd"
   },
   "source": [
    "# Best score => 0,76"
   ]
  },
  {
   "cell_type": "markdown",
   "metadata": {
    "_uuid": "69039103d506055d54947dd8bb0d8fe5fae962b1"
   },
   "source": [
    "## Etude de la consommation avec enregistrement toutes les heures"
   ]
  },
  {
   "cell_type": "code",
   "execution_count": null,
   "metadata": {
    "_uuid": "6a12802106a7f8b7e77218c0a48043d27d16b006"
   },
   "outputs": [],
   "source": [
    "# preprocessing pour recuperer les enregistrements toutes les heures\n",
    "def preprocessing_hours(df,dataColName):\n",
    "    dfTmp = ps.DataFrame()\n",
    "    for index,l in df.iterrows():       \n",
    "        dfTmp = dfTmp.append(l)\n",
    "        l[dataColName] = l[dataColName] + timedelta(hours=1)\n",
    "        dfTmp = dfTmp.append(l)\n",
    "        l[dataColName] = l[dataColName] + timedelta(hours=1)\n",
    "        dfTmp = dfTmp.append(l)\n",
    "    return dfTmp"
   ]
  },
  {
   "cell_type": "code",
   "execution_count": null,
   "metadata": {
    "_uuid": "cd23b3e2edb77cbc012d4f2c0a9af4d6d8d44db8"
   },
   "outputs": [],
   "source": [
    "dfEachHour = preprocessing_hours(dfMeteoTrainCopy.copy(),'dateStd')\n",
    "dfEachHour.head(5)\n"
   ]
  },
  {
   "cell_type": "code",
   "execution_count": null,
   "metadata": {
    "_uuid": "5fc593befbdd3ee15bfb0e5e723e5e98e93ae82b"
   },
   "outputs": [],
   "source": [
    "# Construction du df merger toute les heures\n",
    "dfMergerEachHours = ps.merge(dfEachHour,dfConsoCopy,on='dateStd')\n",
    "dfMergerEachHours.shape"
   ]
  },
  {
   "cell_type": "code",
   "execution_count": null,
   "metadata": {
    "_uuid": "f80f2a93dbbc822b81bed62240da1c0834a4429a"
   },
   "outputs": [],
   "source": [
    "resScoreEachHours, rmse_each_hours = modelisationProcessing(rf_conso,dfMergerEachHours,modelCols_conso,targetName)\n",
    "\n",
    "print(\"Resultat score : {} RMSE: {}\".format(resScoreEachHours, rmse_each_hours))"
   ]
  },
  {
   "cell_type": "markdown",
   "metadata": {
    "_uuid": "4da1a06ab02e693ec64bbaa75d730f5bbc0096a6"
   },
   "source": [
    "## best score => 0.83"
   ]
  },
  {
   "cell_type": "markdown",
   "metadata": {
    "_uuid": "80df9f1c88af95078c6212c13c78ba2e8a348be5"
   },
   "source": [
    "# comparaison supplementaire\n",
    "## Regression pour predire la consommation => Regression lineaire"
   ]
  },
  {
   "cell_type": "code",
   "execution_count": null,
   "metadata": {
    "_uuid": "663da00ada7f9f38924a4db8a5f1cd903f5b9695"
   },
   "outputs": [],
   "source": [
    "from sklearn.linear_model import LinearRegression\n",
    "# df avec enregistrement toutes les 3 hours\n",
    "lr_conso = LinearRegression()\n",
    "resScoreLr, rmse_lr = modelisationProcessing(lr_conso,dfMerger,modelCols_conso,targetName)\n",
    "print(\"Resultat score : {} RMSE: {}\".format(resScoreLr, rmse_lr))"
   ]
  },
  {
   "cell_type": "code",
   "execution_count": null,
   "metadata": {
    "_uuid": "12e317f7cfddb51ed4d5e5388b5f8c9f6a855afc"
   },
   "outputs": [],
   "source": [
    "# df avec enregistrement toutes les heures \n",
    "resScoreLr_each_hours, rmse_lr_each_hours = modelisationProcessing(lr_conso,dfMergerEachHours,modelCols_conso,targetName)\n",
    "print(\"Resultat score : {} RMSE: {}\".format(resScoreLr_each_hours, rmse_lr_each_hours))"
   ]
  },
  {
   "cell_type": "markdown",
   "metadata": {
    "_uuid": "d6a11327af87ed270f6665e8fc14d04d7dc8ebee"
   },
   "source": [
    "## Comparaison => on cherche l'erreur la plus basse"
   ]
  },
  {
   "cell_type": "code",
   "execution_count": null,
   "metadata": {
    "_uuid": "17bd73c24f30eb44e3075badf3fef7f65c7816a3"
   },
   "outputs": [],
   "source": [
    "# test avec gradient boost\n",
    "from sklearn.ensemble import GradientBoostingRegressor\n",
    "\n",
    "gboost = GradientBoostingRegressor()\n",
    "resScoreGBoost, rmse_gboost = modelisationProcessing(gboost,dfMerger,modelCols_conso,targetName)\n",
    "print(\"Resultat score : {} RMSE: {}\".format(resScoreGBoost, rmse_gboost))"
   ]
  }
 ],
 "metadata": {
  "kernelspec": {
   "display_name": "Python 3",
   "language": "python",
   "name": "python3"
  },
  "language_info": {
   "codemirror_mode": {
    "name": "ipython",
    "version": 3
   },
   "file_extension": ".py",
   "mimetype": "text/x-python",
   "name": "python",
   "nbconvert_exporter": "python",
   "pygments_lexer": "ipython3",
   "version": "3.6.5"
  }
 },
 "nbformat": 4,
 "nbformat_minor": 1
}
